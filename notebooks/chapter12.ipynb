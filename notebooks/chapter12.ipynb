{
 "cells": [
  {
   "cell_type": "code",
   "execution_count": 1,
   "metadata": {},
   "outputs": [],
   "source": [
    "import pandas as pd\n",
    "\n",
    "nhefs = pd.read_csv('../data/nhefs.csv')"
   ]
  },
  {
   "cell_type": "code",
   "execution_count": 2,
   "metadata": {},
   "outputs": [
    {
     "data": {
      "text/html": [
       "<div>\n",
       "<style scoped>\n",
       "    .dataframe tbody tr th:only-of-type {\n",
       "        vertical-align: middle;\n",
       "    }\n",
       "\n",
       "    .dataframe tbody tr th {\n",
       "        vertical-align: top;\n",
       "    }\n",
       "\n",
       "    .dataframe thead th {\n",
       "        text-align: right;\n",
       "    }\n",
       "</style>\n",
       "<table border=\"1\" class=\"dataframe\">\n",
       "  <thead>\n",
       "    <tr style=\"text-align: right;\">\n",
       "      <th></th>\n",
       "      <th>seqn</th>\n",
       "      <th>qsmk</th>\n",
       "      <th>death</th>\n",
       "      <th>yrdth</th>\n",
       "      <th>modth</th>\n",
       "      <th>dadth</th>\n",
       "      <th>sbp</th>\n",
       "      <th>dbp</th>\n",
       "      <th>sex</th>\n",
       "      <th>age</th>\n",
       "      <th>...</th>\n",
       "      <th>birthcontrol</th>\n",
       "      <th>pregnancies</th>\n",
       "      <th>cholesterol</th>\n",
       "      <th>hightax82</th>\n",
       "      <th>price71</th>\n",
       "      <th>price82</th>\n",
       "      <th>tax71</th>\n",
       "      <th>tax82</th>\n",
       "      <th>price71_82</th>\n",
       "      <th>tax71_82</th>\n",
       "    </tr>\n",
       "  </thead>\n",
       "  <tbody>\n",
       "    <tr>\n",
       "      <th>0</th>\n",
       "      <td>233</td>\n",
       "      <td>0</td>\n",
       "      <td>0</td>\n",
       "      <td>NaN</td>\n",
       "      <td>NaN</td>\n",
       "      <td>NaN</td>\n",
       "      <td>175.0</td>\n",
       "      <td>96.0</td>\n",
       "      <td>0</td>\n",
       "      <td>42</td>\n",
       "      <td>...</td>\n",
       "      <td>2</td>\n",
       "      <td>NaN</td>\n",
       "      <td>197.0</td>\n",
       "      <td>0.0</td>\n",
       "      <td>2.183594</td>\n",
       "      <td>1.739990</td>\n",
       "      <td>1.102295</td>\n",
       "      <td>0.461975</td>\n",
       "      <td>0.443787</td>\n",
       "      <td>0.640381</td>\n",
       "    </tr>\n",
       "    <tr>\n",
       "      <th>1</th>\n",
       "      <td>235</td>\n",
       "      <td>0</td>\n",
       "      <td>0</td>\n",
       "      <td>NaN</td>\n",
       "      <td>NaN</td>\n",
       "      <td>NaN</td>\n",
       "      <td>123.0</td>\n",
       "      <td>80.0</td>\n",
       "      <td>0</td>\n",
       "      <td>36</td>\n",
       "      <td>...</td>\n",
       "      <td>2</td>\n",
       "      <td>NaN</td>\n",
       "      <td>301.0</td>\n",
       "      <td>0.0</td>\n",
       "      <td>2.346680</td>\n",
       "      <td>1.797363</td>\n",
       "      <td>1.364990</td>\n",
       "      <td>0.571899</td>\n",
       "      <td>0.549316</td>\n",
       "      <td>0.792969</td>\n",
       "    </tr>\n",
       "    <tr>\n",
       "      <th>2</th>\n",
       "      <td>244</td>\n",
       "      <td>0</td>\n",
       "      <td>0</td>\n",
       "      <td>NaN</td>\n",
       "      <td>NaN</td>\n",
       "      <td>NaN</td>\n",
       "      <td>115.0</td>\n",
       "      <td>75.0</td>\n",
       "      <td>1</td>\n",
       "      <td>56</td>\n",
       "      <td>...</td>\n",
       "      <td>0</td>\n",
       "      <td>2.0</td>\n",
       "      <td>157.0</td>\n",
       "      <td>0.0</td>\n",
       "      <td>1.569580</td>\n",
       "      <td>1.513428</td>\n",
       "      <td>0.551270</td>\n",
       "      <td>0.230988</td>\n",
       "      <td>0.056198</td>\n",
       "      <td>0.320251</td>\n",
       "    </tr>\n",
       "    <tr>\n",
       "      <th>3</th>\n",
       "      <td>245</td>\n",
       "      <td>0</td>\n",
       "      <td>1</td>\n",
       "      <td>85.0</td>\n",
       "      <td>2.0</td>\n",
       "      <td>14.0</td>\n",
       "      <td>148.0</td>\n",
       "      <td>78.0</td>\n",
       "      <td>0</td>\n",
       "      <td>68</td>\n",
       "      <td>...</td>\n",
       "      <td>2</td>\n",
       "      <td>NaN</td>\n",
       "      <td>174.0</td>\n",
       "      <td>0.0</td>\n",
       "      <td>1.506592</td>\n",
       "      <td>1.451904</td>\n",
       "      <td>0.524902</td>\n",
       "      <td>0.219971</td>\n",
       "      <td>0.054794</td>\n",
       "      <td>0.304993</td>\n",
       "    </tr>\n",
       "    <tr>\n",
       "      <th>4</th>\n",
       "      <td>252</td>\n",
       "      <td>0</td>\n",
       "      <td>0</td>\n",
       "      <td>NaN</td>\n",
       "      <td>NaN</td>\n",
       "      <td>NaN</td>\n",
       "      <td>118.0</td>\n",
       "      <td>77.0</td>\n",
       "      <td>0</td>\n",
       "      <td>40</td>\n",
       "      <td>...</td>\n",
       "      <td>2</td>\n",
       "      <td>NaN</td>\n",
       "      <td>216.0</td>\n",
       "      <td>0.0</td>\n",
       "      <td>2.346680</td>\n",
       "      <td>1.797363</td>\n",
       "      <td>1.364990</td>\n",
       "      <td>0.571899</td>\n",
       "      <td>0.549316</td>\n",
       "      <td>0.792969</td>\n",
       "    </tr>\n",
       "  </tbody>\n",
       "</table>\n",
       "<p>5 rows × 64 columns</p>\n",
       "</div>"
      ],
      "text/plain": [
       "   seqn  qsmk  death  yrdth  modth  dadth    sbp   dbp  sex  age    ...     \\\n",
       "0   233     0      0    NaN    NaN    NaN  175.0  96.0    0   42    ...      \n",
       "1   235     0      0    NaN    NaN    NaN  123.0  80.0    0   36    ...      \n",
       "2   244     0      0    NaN    NaN    NaN  115.0  75.0    1   56    ...      \n",
       "3   245     0      1   85.0    2.0   14.0  148.0  78.0    0   68    ...      \n",
       "4   252     0      0    NaN    NaN    NaN  118.0  77.0    0   40    ...      \n",
       "\n",
       "   birthcontrol  pregnancies  cholesterol  hightax82   price71   price82  \\\n",
       "0             2          NaN        197.0        0.0  2.183594  1.739990   \n",
       "1             2          NaN        301.0        0.0  2.346680  1.797363   \n",
       "2             0          2.0        157.0        0.0  1.569580  1.513428   \n",
       "3             2          NaN        174.0        0.0  1.506592  1.451904   \n",
       "4             2          NaN        216.0        0.0  2.346680  1.797363   \n",
       "\n",
       "      tax71     tax82  price71_82  tax71_82  \n",
       "0  1.102295  0.461975    0.443787  0.640381  \n",
       "1  1.364990  0.571899    0.549316  0.792969  \n",
       "2  0.551270  0.230988    0.056198  0.320251  \n",
       "3  0.524902  0.219971    0.054794  0.304993  \n",
       "4  1.364990  0.571899    0.549316  0.792969  \n",
       "\n",
       "[5 rows x 64 columns]"
      ]
     },
     "execution_count": 2,
     "metadata": {},
     "output_type": "execute_result"
    }
   ],
   "source": [
    "nhefs.head()"
   ]
  },
  {
   "cell_type": "code",
   "execution_count": 3,
   "metadata": {},
   "outputs": [],
   "source": [
    "nhefs['university'] = nhefs.school >= 16"
   ]
  },
  {
   "cell_type": "code",
   "execution_count": 4,
   "metadata": {},
   "outputs": [],
   "source": [
    "nhefs['older'] = nhefs.age > 50"
   ]
  },
  {
   "cell_type": "code",
   "execution_count": 5,
   "metadata": {},
   "outputs": [],
   "source": [
    "nhefs['match'] = 1"
   ]
  },
  {
   "cell_type": "code",
   "execution_count": 6,
   "metadata": {},
   "outputs": [],
   "source": [
    "nhefs['cens'] = nhefs.wt82.isnull()"
   ]
  },
  {
   "cell_type": "code",
   "execution_count": 8,
   "metadata": {},
   "outputs": [],
   "source": [
    "nhefs = nhefs[nhefs.education.isnull() == False]"
   ]
  },
  {
   "cell_type": "code",
   "execution_count": 9,
   "metadata": {},
   "outputs": [],
   "source": [
    "nhefs_nmv = nhefs[nhefs.wt82.isnull() == False]"
   ]
  },
  {
   "cell_type": "code",
   "execution_count": 20,
   "metadata": {},
   "outputs": [
    {
     "name": "stdout",
     "output_type": "stream",
     "text": [
      "4.525078989702234\n",
      "8.748261237678289\n"
     ]
    }
   ],
   "source": [
    "print nhefs_nmv[nhefs_nmv.qsmk == 1].wt82_71.mean()\n",
    "print nhefs_nmv[nhefs_nmv.qsmk == 1].wt82_71.std()"
   ]
  },
  {
   "cell_type": "code",
   "execution_count": 21,
   "metadata": {},
   "outputs": [
    {
     "name": "stdout",
     "output_type": "stream",
     "text": [
      "1.9844975347463456\n",
      "7.449075855798698\n"
     ]
    }
   ],
   "source": [
    "print nhefs_nmv[nhefs_nmv.qsmk == 0].wt82_71.mean()\n",
    "print nhefs_nmv[nhefs_nmv.qsmk == 0].wt82_71.std()"
   ]
  },
  {
   "cell_type": "code",
   "execution_count": 24,
   "metadata": {},
   "outputs": [
    {
     "data": {
      "text/html": [
       "<div>\n",
       "<style scoped>\n",
       "    .dataframe tbody tr th:only-of-type {\n",
       "        vertical-align: middle;\n",
       "    }\n",
       "\n",
       "    .dataframe tbody tr th {\n",
       "        vertical-align: top;\n",
       "    }\n",
       "\n",
       "    .dataframe thead th {\n",
       "        text-align: right;\n",
       "    }\n",
       "</style>\n",
       "<table border=\"1\" class=\"dataframe\">\n",
       "  <thead>\n",
       "    <tr style=\"text-align: right;\">\n",
       "      <th>qsmk</th>\n",
       "      <th>0</th>\n",
       "      <th>1</th>\n",
       "    </tr>\n",
       "  </thead>\n",
       "  <tbody>\n",
       "    <tr>\n",
       "      <th>age</th>\n",
       "      <td>42.788478</td>\n",
       "      <td>46.173697</td>\n",
       "    </tr>\n",
       "    <tr>\n",
       "      <th>smokeintensity</th>\n",
       "      <td>21.191745</td>\n",
       "      <td>18.602978</td>\n",
       "    </tr>\n",
       "    <tr>\n",
       "      <th>smokeyrs</th>\n",
       "      <td>24.087704</td>\n",
       "      <td>26.032258</td>\n",
       "    </tr>\n",
       "    <tr>\n",
       "      <th>wt71</th>\n",
       "      <td>70.302837</td>\n",
       "      <td>72.354888</td>\n",
       "    </tr>\n",
       "  </tbody>\n",
       "</table>\n",
       "</div>"
      ],
      "text/plain": [
       "qsmk                    0          1\n",
       "age             42.788478  46.173697\n",
       "smokeintensity  21.191745  18.602978\n",
       "smokeyrs        24.087704  26.032258\n",
       "wt71            70.302837  72.354888"
      ]
     },
     "execution_count": 24,
     "metadata": {},
     "output_type": "execute_result"
    }
   ],
   "source": [
    "pd.pivot_table(nhefs_nmv, ['age', 'wt71', 'smokeintensity', 'smokeyrs'], columns=['qsmk'])"
   ]
  },
  {
   "cell_type": "code",
   "execution_count": 28,
   "metadata": {},
   "outputs": [
    {
     "data": {
      "text/html": [
       "<div>\n",
       "<style scoped>\n",
       "    .dataframe tbody tr th:only-of-type {\n",
       "        vertical-align: middle;\n",
       "    }\n",
       "\n",
       "    .dataframe tbody tr th {\n",
       "        vertical-align: top;\n",
       "    }\n",
       "\n",
       "    .dataframe thead th {\n",
       "        text-align: right;\n",
       "    }\n",
       "</style>\n",
       "<table border=\"1\" class=\"dataframe\">\n",
       "  <thead>\n",
       "    <tr style=\"text-align: right;\">\n",
       "      <th>qsmk</th>\n",
       "      <th>0</th>\n",
       "      <th>1</th>\n",
       "    </tr>\n",
       "  </thead>\n",
       "  <tbody>\n",
       "    <tr>\n",
       "      <th>active</th>\n",
       "      <td>0.631986</td>\n",
       "      <td>0.689826</td>\n",
       "    </tr>\n",
       "    <tr>\n",
       "      <th>exercise</th>\n",
       "      <td>1.175408</td>\n",
       "      <td>1.250620</td>\n",
       "    </tr>\n",
       "    <tr>\n",
       "      <th>older</th>\n",
       "      <td>0.268272</td>\n",
       "      <td>0.387097</td>\n",
       "    </tr>\n",
       "    <tr>\n",
       "      <th>race</th>\n",
       "      <td>0.146174</td>\n",
       "      <td>0.089330</td>\n",
       "    </tr>\n",
       "    <tr>\n",
       "      <th>sex</th>\n",
       "      <td>0.533964</td>\n",
       "      <td>0.454094</td>\n",
       "    </tr>\n",
       "    <tr>\n",
       "      <th>university</th>\n",
       "      <td>0.098882</td>\n",
       "      <td>0.153846</td>\n",
       "    </tr>\n",
       "  </tbody>\n",
       "</table>\n",
       "</div>"
      ],
      "text/plain": [
       "qsmk               0         1\n",
       "active      0.631986  0.689826\n",
       "exercise    1.175408  1.250620\n",
       "older       0.268272  0.387097\n",
       "race        0.146174  0.089330\n",
       "sex         0.533964  0.454094\n",
       "university  0.098882  0.153846"
      ]
     },
     "execution_count": 28,
     "metadata": {},
     "output_type": "execute_result"
    }
   ],
   "source": [
    "pd.pivot_table(nhefs_nmv, ['sex', 'race', 'university', 'exercise', 'active', 'older'], columns=['qsmk'])\n"
   ]
  },
  {
   "cell_type": "markdown",
   "metadata": {},
   "source": [
    "# Program 12.2"
   ]
  },
  {
   "cell_type": "code",
   "execution_count": 72,
   "metadata": {},
   "outputs": [],
   "source": [
    "import statsmodels.formula.api as sm"
   ]
  },
  {
   "cell_type": "code",
   "execution_count": null,
   "metadata": {},
   "outputs": [],
   "source": [
    "sm.Logit(nhefs_nmv['qsmk'], nhefs_nmv[['']])"
   ]
  },
  {
   "cell_type": "code",
   "execution_count": 59,
   "metadata": {},
   "outputs": [
    {
     "data": {
      "text/plain": [
       "'qsmk ~ sex + race + age + I(age ** 2) + education + smokeintensity + I(smokeintensity ** 2) + smokeyrs + I(smokeyrs ** 2) + exercise + active + wt71 + I(wt71 ** 2)'"
      ]
     },
     "execution_count": 59,
     "metadata": {},
     "output_type": "execute_result"
    }
   ],
   "source": [
    "from patsy import EvalFactor, ModelDesc, Term, LookupFactor\n",
    "\n",
    "model = [Term([])]\n",
    "model.append(LookupFactor('C(sex)'))\n",
    "model.append(LookupFactor('C(race)'))\n",
    "model.append(LookupFactor('age'))\n",
    "model.append(EvalFactor('I(age**2)'))\n",
    "model.append(LookupFactor('C(education)'))\n",
    "model.append(LookupFactor('smokeintensity'))\n",
    "model.append(EvalFactor('I(smokeintensity**2)'))\n",
    "model.append(LookupFactor('smokeyrs'))\n",
    "model.append(EvalFactor('I(smokeyrs**2)'))\n",
    "model.append(LookupFactor('C(exercise)'))\n",
    "model.append(LookupFactor('C(active)'))\n",
    "model.append(LookupFactor('wt71'))\n",
    "model.append(EvalFactor('I(wt71**2)'))\n",
    "\n",
    "\n",
    "m = ModelDesc([LookupFactor('qsmk')], model)\n",
    "m.describe()"
   ]
  },
  {
   "cell_type": "code",
   "execution_count": 61,
   "metadata": {},
   "outputs": [
    {
     "name": "stdout",
     "output_type": "stream",
     "text": [
      "Optimization terminated successfully.\n",
      "         Current function value: 0.536432\n",
      "         Iterations 6\n",
      "                            Results: Logit\n",
      "======================================================================\n",
      "Model:                Logit              No. Iterations:     6.0000   \n",
      "Dependent Variable:   qsmk               Pseudo R-squared:   0.059    \n",
      "Date:                 2018-01-20 14:13   AIC:                1708.1036\n",
      "No. Observations:     1566               BIC:                1783.0915\n",
      "Df Model:             13                 Log-Likelihood:     -840.05  \n",
      "Df Residuals:         1552               LL-Null:            -893.03  \n",
      "Converged:            1.0000             Scale:              1.0000   \n",
      "----------------------------------------------------------------------\n",
      "                        Coef.  Std.Err.    z    P>|z|   [0.025  0.975]\n",
      "----------------------------------------------------------------------\n",
      "Intercept              -2.3598   1.3791 -1.7111 0.0871 -5.0628  0.3432\n",
      "sex                    -0.5560   0.1515 -3.6694 0.0002 -0.8530 -0.2590\n",
      "race                   -0.8393   0.2094 -4.0090 0.0001 -1.2497 -0.4290\n",
      "age                     0.1245   0.0512  2.4329 0.0150  0.0242  0.2247\n",
      "I(age ** 2)            -0.0008   0.0005 -1.5833 0.1134 -0.0019  0.0002\n",
      "education               0.1138   0.0528  2.1566 0.0310  0.0104  0.2173\n",
      "smokeintensity         -0.0767   0.0152 -5.0423 0.0000 -0.1065 -0.0469\n",
      "I(smokeintensity ** 2)  0.0010   0.0003  3.5707 0.0004  0.0005  0.0016\n",
      "smokeyrs               -0.0759   0.0277 -2.7435 0.0061 -0.1301 -0.0217\n",
      "I(smokeyrs ** 2)        0.0009   0.0005  1.9117 0.0559 -0.0000  0.0018\n",
      "exercise                0.1679   0.0887  1.8927 0.0584 -0.0060  0.3417\n",
      "active                  0.0875   0.0957  0.9149 0.3602 -0.1000  0.2750\n",
      "wt71                   -0.0170   0.0262 -0.6486 0.5166 -0.0684  0.0344\n",
      "I(wt71 ** 2)            0.0001   0.0002  0.8910 0.3729 -0.0002  0.0005\n",
      "======================================================================\n",
      "\n"
     ]
    }
   ],
   "source": [
    "fit_model = sm.Logit.from_formula(m.describe(), nhefs_nmv).fit()\n",
    "\n",
    "print fit_model.summary2()"
   ]
  },
  {
   "cell_type": "code",
   "execution_count": 65,
   "metadata": {},
   "outputs": [],
   "source": [
    "nhefs_w = fit_model.predict()"
   ]
  },
  {
   "cell_type": "code",
   "execution_count": 69,
   "metadata": {},
   "outputs": [],
   "source": [
    "nhefs_w[nhefs_nmv.qsmk == False] = 1 - nhefs_w[nhefs_nmv.qsmk == False]"
   ]
  },
  {
   "cell_type": "code",
   "execution_count": 70,
   "metadata": {},
   "outputs": [],
   "source": [
    "nhefs_w = 1 / nhefs_w"
   ]
  },
  {
   "cell_type": "code",
   "execution_count": 71,
   "metadata": {},
   "outputs": [
    {
     "data": {
      "text/plain": [
       "array([1.1004459 , 1.18479958, 1.15240257, ..., 1.14164084, 1.61583301,\n",
       "       5.96330308])"
      ]
     },
     "execution_count": 71,
     "metadata": {},
     "output_type": "execute_result"
    }
   ],
   "source": [
    "nhefs_w"
   ]
  },
  {
   "cell_type": "code",
   "execution_count": 79,
   "metadata": {},
   "outputs": [
    {
     "name": "stdout",
     "output_type": "stream",
     "text": [
      "                               GEE Regression Results                              \n",
      "===================================================================================\n",
      "Dep. Variable:                     wt82_71   No. Observations:                 1566\n",
      "Model:                                 GEE   No. clusters:                     1566\n",
      "Method:                        Generalized   Min. cluster size:                   1\n",
      "                      Estimating Equations   Max. cluster size:                   1\n",
      "Family:                           Gaussian   Mean cluster size:                 1.0\n",
      "Dependence structure:         Independence   Num. iterations:                     2\n",
      "Date:                     Sat, 20 Jan 2018   Scale:                          65.374\n",
      "Covariance type:                    robust   Time:                         14:28:44\n",
      "==============================================================================\n",
      "                 coef    std err          z      P>|z|      [0.025      0.975]\n",
      "------------------------------------------------------------------------------\n",
      "Intercept      1.7828      0.225      7.941      0.000       1.343       2.223\n",
      "qsmk           3.3843      0.528      6.404      0.000       2.349       4.420\n",
      "==============================================================================\n",
      "Skew:                          0.1122   Kurtosis:                       3.7447\n",
      "Centered skew:                 0.0000   Centered kurtosis:             -3.0000\n",
      "==============================================================================\n"
     ]
    }
   ],
   "source": [
    "gee = sm.GEE.from_formula('wt82_71 ~ qsmk', groups='seqn', data=nhefs_nmv, weights=nhefs_w).fit()\n",
    "print gee.summary()"
   ]
  },
  {
   "cell_type": "code",
   "execution_count": 104,
   "metadata": {
    "scrolled": true
   },
   "outputs": [
    {
     "name": "stderr",
     "output_type": "stream",
     "text": [
      "/Users/nate/Desktop/causalinferencebook/env/lib/python2.7/site-packages/ipykernel_launcher.py:4: SettingWithCopyWarning: \n",
      "A value is trying to be set on a copy of a slice from a DataFrame.\n",
      "Try using .loc[row_indexer,col_indexer] = value instead\n",
      "\n",
      "See the caveats in the documentation: http://pandas.pydata.org/pandas-docs/stable/indexing.html#indexing-view-versus-copy\n",
      "  after removing the cwd from sys.path.\n"
     ]
    },
    {
     "data": {
      "text/html": [
       "<div>\n",
       "<style scoped>\n",
       "    .dataframe tbody tr th:only-of-type {\n",
       "        vertical-align: middle;\n",
       "    }\n",
       "\n",
       "    .dataframe tbody tr th {\n",
       "        vertical-align: top;\n",
       "    }\n",
       "\n",
       "    .dataframe thead tr th {\n",
       "        text-align: left;\n",
       "    }\n",
       "\n",
       "    .dataframe thead tr:last-of-type th {\n",
       "        text-align: right;\n",
       "    }\n",
       "</style>\n",
       "<table border=\"1\" class=\"dataframe\">\n",
       "  <thead>\n",
       "    <tr>\n",
       "      <th></th>\n",
       "      <th colspan=\"2\" halign=\"left\">ip_w</th>\n",
       "    </tr>\n",
       "    <tr>\n",
       "      <th>qsmk</th>\n",
       "      <th>0</th>\n",
       "      <th>1</th>\n",
       "    </tr>\n",
       "    <tr>\n",
       "      <th>sex</th>\n",
       "      <th></th>\n",
       "      <th></th>\n",
       "    </tr>\n",
       "  </thead>\n",
       "  <tbody>\n",
       "    <tr>\n",
       "      <th>0</th>\n",
       "      <td>763.230683</td>\n",
       "      <td>760.320235</td>\n",
       "    </tr>\n",
       "    <tr>\n",
       "      <th>1</th>\n",
       "      <td>801.846565</td>\n",
       "      <td>799.399224</td>\n",
       "    </tr>\n",
       "  </tbody>\n",
       "</table>\n",
       "</div>"
      ],
      "text/plain": [
       "            ip_w            \n",
       "qsmk           0           1\n",
       "sex                         \n",
       "0     763.230683  760.320235\n",
       "1     801.846565  799.399224"
      ]
     },
     "execution_count": 104,
     "metadata": {},
     "output_type": "execute_result"
    }
   ],
   "source": [
    "import numpy as np\n",
    "    \n",
    "\n",
    "nhefs_nmv['ip_w'] = nhefs_w\n",
    "\n",
    "\n",
    "pd.pivot_table(nhefs_nmv, ['ip_w'], index=['sex'], columns=['qsmk'], aggfunc=np.sum)"
   ]
  },
  {
   "cell_type": "code",
   "execution_count": 89,
   "metadata": {},
   "outputs": [
    {
     "data": {
      "text/html": [
       "<div>\n",
       "<style scoped>\n",
       "    .dataframe tbody tr th:only-of-type {\n",
       "        vertical-align: middle;\n",
       "    }\n",
       "\n",
       "    .dataframe tbody tr th {\n",
       "        vertical-align: top;\n",
       "    }\n",
       "\n",
       "    .dataframe thead th {\n",
       "        text-align: right;\n",
       "    }\n",
       "</style>\n",
       "<table border=\"1\" class=\"dataframe\">\n",
       "  <thead>\n",
       "    <tr style=\"text-align: right;\">\n",
       "      <th>qsmk</th>\n",
       "      <th>0</th>\n",
       "      <th>1</th>\n",
       "    </tr>\n",
       "  </thead>\n",
       "  <tbody>\n",
       "    <tr>\n",
       "      <th>age</th>\n",
       "      <td>42.416031</td>\n",
       "      <td>45.536585</td>\n",
       "    </tr>\n",
       "  </tbody>\n",
       "</table>\n",
       "</div>"
      ],
      "text/plain": [
       "qsmk          0          1\n",
       "age   42.416031  45.536585"
      ]
     },
     "execution_count": 89,
     "metadata": {},
     "output_type": "execute_result"
    }
   ],
   "source": [
    "pd.pivot_table(nhefs_nmv[(nhefs_nmv.sex == 1) & (nhefs_nmv.race == 0)], ['age'], columns=['qsmk'])"
   ]
  },
  {
   "cell_type": "markdown",
   "metadata": {},
   "source": [
    "# 12.3"
   ]
  },
  {
   "cell_type": "code",
   "execution_count": 90,
   "metadata": {},
   "outputs": [
    {
     "data": {
      "text/plain": [
       "'qsmk ~ sex + race + age + I(age ** 2) + education + smokeintensity + I(smokeintensity ** 2) + smokeyrs + I(smokeyrs ** 2) + exercise + active + wt71 + I(wt71 ** 2)'"
      ]
     },
     "execution_count": 90,
     "metadata": {},
     "output_type": "execute_result"
    }
   ],
   "source": [
    "from patsy import EvalFactor, ModelDesc, Term, LookupFactor\n",
    "\n",
    "model = [Term([])]\n",
    "model.append(LookupFactor('C(sex)'))\n",
    "model.append(LookupFactor('C(race)'))\n",
    "model.append(LookupFactor('age'))\n",
    "model.append(EvalFactor('I(age**2)'))\n",
    "model.append(LookupFactor('C(education)'))\n",
    "model.append(LookupFactor('smokeintensity'))\n",
    "model.append(EvalFactor('I(smokeintensity**2)'))\n",
    "model.append(LookupFactor('smokeyrs'))\n",
    "model.append(EvalFactor('I(smokeyrs**2)'))\n",
    "model.append(LookupFactor('C(exercise)'))\n",
    "model.append(LookupFactor('C(active)'))\n",
    "model.append(LookupFactor('wt71'))\n",
    "model.append(EvalFactor('I(wt71**2)'))\n",
    "\n",
    "\n",
    "m = ModelDesc([LookupFactor('qsmk')], model)\n",
    "m.describe()"
   ]
  },
  {
   "cell_type": "code",
   "execution_count": 91,
   "metadata": {},
   "outputs": [
    {
     "name": "stdout",
     "output_type": "stream",
     "text": [
      "Optimization terminated successfully.\n",
      "         Current function value: 0.536432\n",
      "         Iterations 6\n",
      "                            Results: Logit\n",
      "======================================================================\n",
      "Model:                Logit              No. Iterations:     6.0000   \n",
      "Dependent Variable:   qsmk               Pseudo R-squared:   0.059    \n",
      "Date:                 2018-01-20 15:01   AIC:                1708.1036\n",
      "No. Observations:     1566               BIC:                1783.0915\n",
      "Df Model:             13                 Log-Likelihood:     -840.05  \n",
      "Df Residuals:         1552               LL-Null:            -893.03  \n",
      "Converged:            1.0000             Scale:              1.0000   \n",
      "----------------------------------------------------------------------\n",
      "                        Coef.  Std.Err.    z    P>|z|   [0.025  0.975]\n",
      "----------------------------------------------------------------------\n",
      "Intercept              -2.3598   1.3791 -1.7111 0.0871 -5.0628  0.3432\n",
      "sex                    -0.5560   0.1515 -3.6694 0.0002 -0.8530 -0.2590\n",
      "race                   -0.8393   0.2094 -4.0090 0.0001 -1.2497 -0.4290\n",
      "age                     0.1245   0.0512  2.4329 0.0150  0.0242  0.2247\n",
      "I(age ** 2)            -0.0008   0.0005 -1.5833 0.1134 -0.0019  0.0002\n",
      "education               0.1138   0.0528  2.1566 0.0310  0.0104  0.2173\n",
      "smokeintensity         -0.0767   0.0152 -5.0423 0.0000 -0.1065 -0.0469\n",
      "I(smokeintensity ** 2)  0.0010   0.0003  3.5707 0.0004  0.0005  0.0016\n",
      "smokeyrs               -0.0759   0.0277 -2.7435 0.0061 -0.1301 -0.0217\n",
      "I(smokeyrs ** 2)        0.0009   0.0005  1.9117 0.0559 -0.0000  0.0018\n",
      "exercise                0.1679   0.0887  1.8927 0.0584 -0.0060  0.3417\n",
      "active                  0.0875   0.0957  0.9149 0.3602 -0.1000  0.2750\n",
      "wt71                   -0.0170   0.0262 -0.6486 0.5166 -0.0684  0.0344\n",
      "I(wt71 ** 2)            0.0001   0.0002  0.8910 0.3729 -0.0002  0.0005\n",
      "======================================================================\n",
      "\n"
     ]
    }
   ],
   "source": [
    "fit_model = sm.Logit.from_formula(m.describe(), nhefs_nmv).fit()\n",
    "\n",
    "print fit_model.summary2()"
   ]
  },
  {
   "cell_type": "code",
   "execution_count": 92,
   "metadata": {},
   "outputs": [],
   "source": [
    "est_prob_d = fit_model.predict()"
   ]
  },
  {
   "cell_type": "code",
   "execution_count": 93,
   "metadata": {},
   "outputs": [
    {
     "name": "stdout",
     "output_type": "stream",
     "text": [
      "Optimization terminated successfully.\n",
      "         Current function value: 0.570260\n",
      "         Iterations 5\n",
      "                         Results: Logit\n",
      "================================================================\n",
      "Model:              Logit            No. Iterations:   5.0000   \n",
      "Dependent Variable: qsmk             Pseudo R-squared: 0.000    \n",
      "Date:               2018-01-20 15:03 AIC:              1788.0542\n",
      "No. Observations:   1566             BIC:              1793.4105\n",
      "Df Model:           0                Log-Likelihood:   -893.03  \n",
      "Df Residuals:       1565             LL-Null:          -893.03  \n",
      "Converged:          1.0000           Scale:            1.0000   \n",
      "-----------------------------------------------------------------\n",
      "             Coef.   Std.Err.     z      P>|z|    [0.025   0.975]\n",
      "-----------------------------------------------------------------\n",
      "Intercept   -1.0598    0.0578  -18.3349  0.0000  -1.1731  -0.9465\n",
      "================================================================\n",
      "\n"
     ]
    }
   ],
   "source": [
    "fit_model = sm.Logit.from_formula('qsmk ~ 1', nhefs_nmv).fit()\n",
    "\n",
    "print fit_model.summary2()"
   ]
  },
  {
   "cell_type": "code",
   "execution_count": 94,
   "metadata": {},
   "outputs": [],
   "source": [
    "est_prob_n = fit_model.predict()"
   ]
  },
  {
   "cell_type": "code",
   "execution_count": 95,
   "metadata": {},
   "outputs": [],
   "source": [
    "est_prob_d[nhefs_nmv.qsmk == False] = 1 - est_prob_d[nhefs_nmv.qsmk == False]\n",
    "est_prob_n[nhefs_nmv.qsmk == False] = 1 - est_prob_n[nhefs_nmv.qsmk == False]\n",
    "\n",
    "nhefs_sw = est_prob_n / est_prob_d"
   ]
  },
  {
   "cell_type": "code",
   "execution_count": 97,
   "metadata": {},
   "outputs": [
    {
     "name": "stdout",
     "output_type": "stream",
     "text": [
      "                               GEE Regression Results                              \n",
      "===================================================================================\n",
      "Dep. Variable:                     wt82_71   No. Observations:                 1566\n",
      "Model:                                 GEE   No. clusters:                     1566\n",
      "Method:                        Generalized   Min. cluster size:                   1\n",
      "                      Estimating Equations   Max. cluster size:                   1\n",
      "Family:                           Gaussian   Mean cluster size:                 1.0\n",
      "Dependence structure:         Independence   Num. iterations:                     2\n",
      "Date:                     Sat, 20 Jan 2018   Scale:                          60.902\n",
      "Covariance type:                    robust   Time:                         15:06:47\n",
      "==============================================================================\n",
      "                 coef    std err          z      P>|z|      [0.025      0.975]\n",
      "------------------------------------------------------------------------------\n",
      "Intercept      1.7828      0.225      7.941      0.000       1.343       2.223\n",
      "qsmk           3.3843      0.528      6.404      0.000       2.349       4.420\n",
      "==============================================================================\n",
      "Skew:                          0.1122   Kurtosis:                       3.7447\n",
      "Centered skew:                 0.0000   Centered kurtosis:             -3.0000\n",
      "==============================================================================\n"
     ]
    }
   ],
   "source": [
    "gee = sm.GEE.from_formula('wt82_71 ~ qsmk', groups='seqn', data=nhefs_nmv, weights=nhefs_sw).fit()\n",
    "print gee.summary()"
   ]
  },
  {
   "cell_type": "code",
   "execution_count": 103,
   "metadata": {},
   "outputs": [
    {
     "name": "stderr",
     "output_type": "stream",
     "text": [
      "/Users/nate/Desktop/causalinferencebook/env/lib/python2.7/site-packages/ipykernel_launcher.py:4: SettingWithCopyWarning: \n",
      "A value is trying to be set on a copy of a slice from a DataFrame.\n",
      "Try using .loc[row_indexer,col_indexer] = value instead\n",
      "\n",
      "See the caveats in the documentation: http://pandas.pydata.org/pandas-docs/stable/indexing.html#indexing-view-versus-copy\n",
      "  after removing the cwd from sys.path.\n"
     ]
    },
    {
     "data": {
      "text/html": [
       "<div>\n",
       "<style scoped>\n",
       "    .dataframe tbody tr th:only-of-type {\n",
       "        vertical-align: middle;\n",
       "    }\n",
       "\n",
       "    .dataframe tbody tr th {\n",
       "        vertical-align: top;\n",
       "    }\n",
       "\n",
       "    .dataframe thead tr th {\n",
       "        text-align: left;\n",
       "    }\n",
       "\n",
       "    .dataframe thead tr:last-of-type th {\n",
       "        text-align: right;\n",
       "    }\n",
       "</style>\n",
       "<table border=\"1\" class=\"dataframe\">\n",
       "  <thead>\n",
       "    <tr>\n",
       "      <th></th>\n",
       "      <th colspan=\"2\" halign=\"left\">s_ip_w</th>\n",
       "    </tr>\n",
       "    <tr>\n",
       "      <th>qsmk</th>\n",
       "      <th>0</th>\n",
       "      <th>1</th>\n",
       "    </tr>\n",
       "    <tr>\n",
       "      <th>sex</th>\n",
       "      <th></th>\n",
       "      <th></th>\n",
       "    </tr>\n",
       "  </thead>\n",
       "  <tbody>\n",
       "    <tr>\n",
       "      <th>0</th>\n",
       "      <td>566.818189</td>\n",
       "      <td>195.663509</td>\n",
       "    </tr>\n",
       "    <tr>\n",
       "      <th>1</th>\n",
       "      <td>595.496523</td>\n",
       "      <td>205.720234</td>\n",
       "    </tr>\n",
       "  </tbody>\n",
       "</table>\n",
       "</div>"
      ],
      "text/plain": [
       "          s_ip_w            \n",
       "qsmk           0           1\n",
       "sex                         \n",
       "0     566.818189  195.663509\n",
       "1     595.496523  205.720234"
      ]
     },
     "execution_count": 103,
     "metadata": {},
     "output_type": "execute_result"
    }
   ],
   "source": [
    "import numpy as np\n",
    "    \n",
    "\n",
    "nhefs_nmv['s_ip_w'] = nhefs_sw\n",
    "\n",
    "\n",
    "pd.pivot_table(nhefs_nmv, ['s_ip_w'], index=['sex'], columns=['qsmk'], aggfunc=np.sum)"
   ]
  },
  {
   "cell_type": "markdown",
   "metadata": {},
   "source": [
    "# 12.4"
   ]
  },
  {
   "cell_type": "code",
   "execution_count": 105,
   "metadata": {},
   "outputs": [],
   "source": [
    "nhefs_nmv_s = nhefs_nmv[nhefs_nmv.smokeintensity <= 25]"
   ]
  },
  {
   "cell_type": "code",
   "execution_count": 161,
   "metadata": {},
   "outputs": [
    {
     "data": {
      "text/plain": [
       "'smkintensity82_71 ~ C(sex) + C(race) + age + I(age ** 2) + C(education) + smokeintensity + I(smokeintensity ** 2) + smokeyrs + I(smokeyrs ** 2) + C(exercise) + C(active) + wt71 + I(wt71 ** 2)'"
      ]
     },
     "execution_count": 161,
     "metadata": {},
     "output_type": "execute_result"
    }
   ],
   "source": [
    "from patsy import EvalFactor, ModelDesc, Term, LookupFactor\n",
    "\n",
    "model = [Term([])]\n",
    "model.append(LookupFactor('C(sex)'))\n",
    "model.append(LookupFactor('C(race)'))\n",
    "model.append(LookupFactor('age'))\n",
    "model.append(EvalFactor('I(age**2)'))\n",
    "model.append(LookupFactor('C(education)'))\n",
    "model.append(LookupFactor('smokeintensity'))\n",
    "model.append(EvalFactor('I(smokeintensity**2)'))\n",
    "model.append(LookupFactor('smokeyrs'))\n",
    "model.append(EvalFactor('I(smokeyrs**2)'))\n",
    "model.append(LookupFactor('C(exercise)'))\n",
    "model.append(LookupFactor('C(active)'))\n",
    "model.append(LookupFactor('wt71'))\n",
    "model.append(EvalFactor('I(wt71**2)'))\n",
    "\n",
    "\n",
    "m = ModelDesc([LookupFactor('smkintensity82_71')], model)\n",
    "m.describe()"
   ]
  },
  {
   "cell_type": "code",
   "execution_count": 162,
   "metadata": {},
   "outputs": [
    {
     "name": "stdout",
     "output_type": "stream",
     "text": [
      "                    Results: Ordinary least squares\n",
      "======================================================================\n",
      "Model:               OLS                Adj. R-squared:      0.064    \n",
      "Dependent Variable:  smkintensity82_71  AIC:                 8697.3746\n",
      "Date:                2018-01-20 15:53   BIC:                 8793.4747\n",
      "No. Observations:    1162               Log-Likelihood:      -4329.7  \n",
      "Df Model:            18                 F-statistic:         5.392    \n",
      "Df Residuals:        1143               Prob (F-statistic):  2.98e-12 \n",
      "R-squared:           0.078              Scale:               102.59   \n",
      "----------------------------------------------------------------------\n",
      "                        Coef.  Std.Err.    t    P>|t|   [0.025  0.975]\n",
      "----------------------------------------------------------------------\n",
      "Intercept              21.2177   7.0104  3.0266 0.0025  7.4630 34.9725\n",
      "C(sex)[T.1]             1.0870   0.7426  1.4639 0.1435 -0.3699  2.5440\n",
      "C(race)[T.1]            0.2320   0.8435  0.2750 0.7833 -1.4230  1.8869\n",
      "C(education)[T.2]       0.5188   0.9642  0.5381 0.5906 -1.3729  2.4106\n",
      "C(education)[T.3]       0.7322   0.8810  0.8311 0.4061 -0.9963  2.4607\n",
      "C(education)[T.4]       1.0207   1.3788  0.7403 0.4593 -1.6846  3.7259\n",
      "C(education)[T.5]      -1.5081   1.1841 -1.2737 0.2030 -3.8313  0.8151\n",
      "C(exercise)[T.1]       -1.0081   0.8716 -1.1566 0.2477 -2.7183  0.7021\n",
      "C(exercise)[T.2]       -1.9969   0.9080 -2.1991 0.0281 -3.7785 -0.2153\n",
      "C(active)[T.1]         -0.0450   0.6597 -0.0682 0.9456 -1.3395  1.2494\n",
      "C(active)[T.2]         -0.8451   1.0986 -0.7693 0.4419 -3.0006  1.3103\n",
      "age                    -0.8100   0.2555 -3.1697 0.0016 -1.3114 -0.3086\n",
      "I(age ** 2)             0.0067   0.0027  2.4784 0.0133  0.0014  0.0119\n",
      "smokeintensity         -0.3590   0.2247 -1.5978 0.1104 -0.7998  0.0818\n",
      "I(smokeintensity ** 2)  0.0020   0.0086  0.2284 0.8194 -0.0149  0.0188\n",
      "smokeyrs                0.3857   0.1417  2.7225 0.0066  0.1077  0.6637\n",
      "I(smokeyrs ** 2)       -0.0055   0.0024 -2.3019 0.0215 -0.0102 -0.0008\n",
      "wt71                   -0.0657   0.1370 -0.4796 0.6316 -0.3344  0.2030\n",
      "I(wt71 ** 2)            0.0006   0.0009  0.6512 0.5150 -0.0011  0.0023\n",
      "----------------------------------------------------------------------\n",
      "Omnibus:                68.936        Durbin-Watson:           1.995  \n",
      "Prob(Omnibus):          0.000         Jarque-Bera (JB):        109.039\n",
      "Skew:                   0.468         Prob(JB):                0.000  \n",
      "Kurtosis:               4.173         Condition No.:           140128 \n",
      "======================================================================\n",
      "* The condition number is large (1e+05). This might indicate\n",
      "strong multicollinearity or other numerical problems.\n"
     ]
    }
   ],
   "source": [
    "fit_model = sm.OLS.from_formula(m.describe(), nhefs_nmv_s).fit()\n",
    "\n",
    "print fit_model.summary2()"
   ]
  },
  {
   "cell_type": "code",
   "execution_count": 163,
   "metadata": {},
   "outputs": [],
   "source": [
    "p_den = fit_model.predict()"
   ]
  },
  {
   "cell_type": "code",
   "execution_count": 164,
   "metadata": {},
   "outputs": [
    {
     "data": {
      "text/plain": [
       "102.58983402478587"
      ]
     },
     "execution_count": 164,
     "metadata": {},
     "output_type": "execute_result"
    }
   ],
   "source": [
    "fit_model.scale"
   ]
  },
  {
   "cell_type": "code",
   "execution_count": 165,
   "metadata": {},
   "outputs": [],
   "source": [
    "from scipy.stats import norm"
   ]
  },
  {
   "cell_type": "code",
   "execution_count": 166,
   "metadata": {},
   "outputs": [],
   "source": [
    "density_d = norm.pdf(nhefs_nmv_s.smkintensity82_71, p_den, fit_model.scale**.5)"
   ]
  },
  {
   "cell_type": "code",
   "execution_count": null,
   "metadata": {},
   "outputs": [],
   "source": []
  },
  {
   "cell_type": "code",
   "execution_count": 167,
   "metadata": {},
   "outputs": [
    {
     "name": "stdout",
     "output_type": "stream",
     "text": [
      "                  Results: Ordinary least squares\n",
      "===================================================================\n",
      "Model:              OLS               Adj. R-squared:     0.000    \n",
      "Dependent Variable: smkintensity82_71 AIC:                8756.0778\n",
      "Date:               2018-01-20 15:53  BIC:                8761.1357\n",
      "No. Observations:   1162              Log-Likelihood:     -4377.0  \n",
      "Df Model:           0                 F-statistic:        inf      \n",
      "Df Residuals:       1161              Prob (F-statistic): nan      \n",
      "R-squared:          0.000             Scale:              109.58   \n",
      "---------------------------------------------------------------------\n",
      "             Coef.    Std.Err.      t      P>|t|     [0.025    0.975]\n",
      "---------------------------------------------------------------------\n",
      "Intercept   -2.0577     0.3071   -6.7007   0.0000   -2.6602   -1.4552\n",
      "-------------------------------------------------------------------\n",
      "Omnibus:              40.502        Durbin-Watson:           1.993 \n",
      "Prob(Omnibus):        0.000         Jarque-Bera (JB):        62.746\n",
      "Skew:                 0.307         Prob(JB):                0.000 \n",
      "Kurtosis:             3.958         Condition No.:           1     \n",
      "===================================================================\n",
      "\n"
     ]
    }
   ],
   "source": [
    "fit_model = sm.OLS.from_formula('smkintensity82_71 ~ 1', nhefs_nmv_s).fit()\n",
    "\n",
    "print fit_model.summary2()"
   ]
  },
  {
   "cell_type": "code",
   "execution_count": 168,
   "metadata": {},
   "outputs": [],
   "source": [
    "p_num = fit_model.predict()"
   ]
  },
  {
   "cell_type": "code",
   "execution_count": 169,
   "metadata": {},
   "outputs": [],
   "source": [
    "density_n = norm.pdf(nhefs_nmv_s.smkintensity82_71, p_num, fit_model.scale**.5)"
   ]
  },
  {
   "cell_type": "code",
   "execution_count": 170,
   "metadata": {},
   "outputs": [],
   "source": [
    "nhefs_sw_a = density_n / density_d"
   ]
  },
  {
   "cell_type": "code",
   "execution_count": 171,
   "metadata": {},
   "outputs": [
    {
     "name": "stdout",
     "output_type": "stream",
     "text": [
      "                               GEE Regression Results                              \n",
      "===================================================================================\n",
      "Dep. Variable:                     wt82_71   No. Observations:                 1162\n",
      "Model:                                 GEE   No. clusters:                     1162\n",
      "Method:                        Generalized   Min. cluster size:                   1\n",
      "                      Estimating Equations   Max. cluster size:                   1\n",
      "Family:                           Gaussian   Mean cluster size:                 1.0\n",
      "Dependence structure:         Independence   Num. iterations:                     2\n",
      "Date:                     Sat, 20 Jan 2018   Scale:                          60.627\n",
      "Covariance type:                    robust   Time:                         15:54:03\n",
      "=============================================================================================\n",
      "                                coef    std err          z      P>|z|      [0.025      0.975]\n",
      "---------------------------------------------------------------------------------------------\n",
      "Intercept                     2.0045      0.295      6.792      0.000       1.426       2.583\n",
      "smkintensity82_71            -0.1090      0.032     -3.456      0.001      -0.171      -0.047\n",
      "I(smkintensity82_71 ** 2)     0.0027      0.002      1.115      0.265      -0.002       0.007\n",
      "==============================================================================\n",
      "Skew:                          0.0215   Kurtosis:                       2.8619\n",
      "Centered skew:                 0.0000   Centered kurtosis:             -3.0000\n",
      "==============================================================================\n"
     ]
    }
   ],
   "source": [
    "gee = sm.GEE.from_formula('wt82_71 ~ smkintensity82_71 + I(smkintensity82_71 ** 2)', groups='seqn', data=nhefs_nmv_s, weights=nhefs_sw_a).fit()\n",
    "print gee.summary()"
   ]
  },
  {
   "cell_type": "markdown",
   "metadata": {},
   "source": [
    "# 12.5"
   ]
  },
  {
   "cell_type": "code",
   "execution_count": 173,
   "metadata": {},
   "outputs": [
    {
     "data": {
      "text/html": [
       "<div>\n",
       "<style scoped>\n",
       "    .dataframe tbody tr th:only-of-type {\n",
       "        vertical-align: middle;\n",
       "    }\n",
       "\n",
       "    .dataframe tbody tr th {\n",
       "        vertical-align: top;\n",
       "    }\n",
       "\n",
       "    .dataframe thead th {\n",
       "        text-align: right;\n",
       "    }\n",
       "</style>\n",
       "<table border=\"1\" class=\"dataframe\">\n",
       "  <thead>\n",
       "    <tr style=\"text-align: right;\">\n",
       "      <th>qsmk</th>\n",
       "      <th>0</th>\n",
       "      <th>1</th>\n",
       "    </tr>\n",
       "  </thead>\n",
       "  <tbody>\n",
       "    <tr>\n",
       "      <th>death</th>\n",
       "      <td>0.171969</td>\n",
       "      <td>0.225806</td>\n",
       "    </tr>\n",
       "  </tbody>\n",
       "</table>\n",
       "</div>"
      ],
      "text/plain": [
       "qsmk          0         1\n",
       "death  0.171969  0.225806"
      ]
     },
     "execution_count": 173,
     "metadata": {},
     "output_type": "execute_result"
    }
   ],
   "source": [
    "pd.pivot_table(nhefs_nmv, ['death'], columns=['qsmk'])"
   ]
  },
  {
   "cell_type": "code",
   "execution_count": 195,
   "metadata": {},
   "outputs": [
    {
     "name": "stdout",
     "output_type": "stream",
     "text": [
      "                               GEE Regression Results                              \n",
      "===================================================================================\n",
      "Dep. Variable:                       death   No. Observations:                 1162\n",
      "Model:                                 GEE   No. clusters:                     1162\n",
      "Method:                        Generalized   Min. cluster size:                   1\n",
      "                      Estimating Equations   Max. cluster size:                   1\n",
      "Family:                           Binomial   Mean cluster size:                 1.0\n",
      "Dependence structure:         Independence   Num. iterations:                     5\n",
      "Date:                     Sat, 20 Jan 2018   Scale:                           1.000\n",
      "Covariance type:                    robust   Time:                         16:13:32\n",
      "==============================================================================\n",
      "                 coef    std err          z      P>|z|      [0.025      0.975]\n",
      "------------------------------------------------------------------------------\n",
      "Intercept     -1.5026      0.098    -15.323      0.000      -1.695      -1.310\n",
      "qsmk           0.0369      0.174      0.213      0.831      -0.303       0.377\n",
      "==============================================================================\n",
      "Skew:                          1.6444   Kurtosis:                       0.7043\n",
      "Centered skew:                 0.0000   Centered kurtosis:             -3.0000\n",
      "==============================================================================\n"
     ]
    }
   ],
   "source": [
    "from statsmodels.api import families\n",
    "\n",
    "gee = sm.GEE.from_formula('death ~ qsmk', groups='seqn', data=nhefs_nmv_s, family=families.Binomial(), weights=nhefs_sw_a).fit()\n",
    "print gee.summary()"
   ]
  },
  {
   "cell_type": "markdown",
   "metadata": {},
   "source": [
    "# 12.6"
   ]
  },
  {
   "cell_type": "code",
   "execution_count": 201,
   "metadata": {},
   "outputs": [
    {
     "data": {
      "text/html": [
       "<div>\n",
       "<style scoped>\n",
       "    .dataframe tbody tr th:only-of-type {\n",
       "        vertical-align: middle;\n",
       "    }\n",
       "\n",
       "    .dataframe tbody tr th {\n",
       "        vertical-align: top;\n",
       "    }\n",
       "\n",
       "    .dataframe thead th {\n",
       "        text-align: right;\n",
       "    }\n",
       "</style>\n",
       "<table border=\"1\" class=\"dataframe\">\n",
       "  <thead>\n",
       "    <tr style=\"text-align: right;\">\n",
       "      <th></th>\n",
       "      <th>sex</th>\n",
       "    </tr>\n",
       "  </thead>\n",
       "  <tbody>\n",
       "    <tr>\n",
       "      <th>count</th>\n",
       "      <td>1566.00000</td>\n",
       "    </tr>\n",
       "    <tr>\n",
       "      <th>mean</th>\n",
       "      <td>0.51341</td>\n",
       "    </tr>\n",
       "    <tr>\n",
       "      <th>std</th>\n",
       "      <td>0.49998</td>\n",
       "    </tr>\n",
       "    <tr>\n",
       "      <th>min</th>\n",
       "      <td>0.00000</td>\n",
       "    </tr>\n",
       "    <tr>\n",
       "      <th>25%</th>\n",
       "      <td>0.00000</td>\n",
       "    </tr>\n",
       "    <tr>\n",
       "      <th>50%</th>\n",
       "      <td>1.00000</td>\n",
       "    </tr>\n",
       "    <tr>\n",
       "      <th>75%</th>\n",
       "      <td>1.00000</td>\n",
       "    </tr>\n",
       "    <tr>\n",
       "      <th>max</th>\n",
       "      <td>1.00000</td>\n",
       "    </tr>\n",
       "  </tbody>\n",
       "</table>\n",
       "</div>"
      ],
      "text/plain": [
       "              sex\n",
       "count  1566.00000\n",
       "mean      0.51341\n",
       "std       0.49998\n",
       "min       0.00000\n",
       "25%       0.00000\n",
       "50%       1.00000\n",
       "75%       1.00000\n",
       "max       1.00000"
      ]
     },
     "execution_count": 201,
     "metadata": {},
     "output_type": "execute_result"
    }
   ],
   "source": [
    "nhefs_nmv[['sex']].describe()"
   ]
  },
  {
   "cell_type": "code",
   "execution_count": 202,
   "metadata": {},
   "outputs": [
    {
     "data": {
      "text/plain": [
       "'qsmk ~ C(sex) + C(race) + age + I(age ** 2) + C(education) + smokeintensity + I(smokeintensity ** 2) + smokeyrs + I(smokeyrs ** 2) + C(exercise) + C(active) + wt71 + I(wt71 ** 2)'"
      ]
     },
     "execution_count": 202,
     "metadata": {},
     "output_type": "execute_result"
    }
   ],
   "source": [
    "from patsy import EvalFactor, ModelDesc, Term, LookupFactor\n",
    "\n",
    "model = [Term([])]\n",
    "model.append(LookupFactor('C(sex)'))\n",
    "model.append(LookupFactor('C(race)'))\n",
    "model.append(LookupFactor('age'))\n",
    "model.append(EvalFactor('I(age**2)'))\n",
    "model.append(LookupFactor('C(education)'))\n",
    "model.append(LookupFactor('smokeintensity'))\n",
    "model.append(EvalFactor('I(smokeintensity**2)'))\n",
    "model.append(LookupFactor('smokeyrs'))\n",
    "model.append(EvalFactor('I(smokeyrs**2)'))\n",
    "model.append(LookupFactor('C(exercise)'))\n",
    "model.append(LookupFactor('C(active)'))\n",
    "model.append(LookupFactor('wt71'))\n",
    "model.append(EvalFactor('I(wt71**2)'))\n",
    "\n",
    "\n",
    "m = ModelDesc([LookupFactor('qsmk')], model)\n",
    "m.describe()"
   ]
  },
  {
   "cell_type": "code",
   "execution_count": 203,
   "metadata": {},
   "outputs": [
    {
     "name": "stdout",
     "output_type": "stream",
     "text": [
      "Optimization terminated successfully.\n",
      "         Current function value: 0.535408\n",
      "         Iterations 6\n",
      "                            Results: Logit\n",
      "======================================================================\n",
      "Model:                Logit              No. Iterations:     6.0000   \n",
      "Dependent Variable:   qsmk               Pseudo R-squared:   0.061    \n",
      "Date:                 2018-01-20 16:17   AIC:                1714.8968\n",
      "No. Observations:     1566               BIC:                1816.6661\n",
      "Df Model:             18                 Log-Likelihood:     -838.45  \n",
      "Df Residuals:         1547               LL-Null:            -893.03  \n",
      "Converged:            1.0000             Scale:              1.0000   \n",
      "----------------------------------------------------------------------\n",
      "                        Coef.  Std.Err.    z    P>|z|   [0.025  0.975]\n",
      "----------------------------------------------------------------------\n",
      "Intercept              -2.2425   1.3808 -1.6240 0.1044 -4.9489  0.4639\n",
      "C(sex)[T.1]            -0.5275   0.1540 -3.4241 0.0006 -0.8294 -0.2255\n",
      "C(race)[T.1]           -0.8393   0.2101 -3.9952 0.0001 -1.2510 -0.4275\n",
      "C(education)[T.2]      -0.0288   0.1984 -0.1451 0.8847 -0.4175  0.3600\n",
      "C(education)[T.3]       0.0864   0.1781  0.4853 0.6274 -0.2626  0.4355\n",
      "C(education)[T.4]       0.0636   0.2732  0.2328 0.8159 -0.4719  0.5991\n",
      "C(education)[T.5]       0.4760   0.2262  2.1039 0.0354  0.0326  0.9194\n",
      "C(exercise)[T.1]        0.3548   0.1801  1.9699 0.0489  0.0018  0.7079\n",
      "C(exercise)[T.2]        0.3957   0.1872  2.1134 0.0346  0.0287  0.7627\n",
      "C(active)[T.1]          0.0319   0.1329  0.2403 0.8101 -0.2286  0.2925\n",
      "C(active)[T.2]          0.1768   0.2150  0.8224 0.4109 -0.2446  0.5981\n",
      "age                     0.1212   0.0513  2.3642 0.0181  0.0207  0.2217\n",
      "I(age ** 2)            -0.0008   0.0005 -1.5380 0.1240 -0.0019  0.0002\n",
      "smokeintensity         -0.0773   0.0152 -5.0670 0.0000 -0.1072 -0.0474\n",
      "I(smokeintensity ** 2)  0.0010   0.0003  3.6472 0.0003  0.0005  0.0016\n",
      "smokeyrs               -0.0736   0.0278 -2.6495 0.0081 -0.1280 -0.0192\n",
      "I(smokeyrs ** 2)        0.0008   0.0005  1.8224 0.0684 -0.0001  0.0018\n",
      "wt71                   -0.0152   0.0263 -0.5789 0.5626 -0.0668  0.0363\n",
      "I(wt71 ** 2)            0.0001   0.0002  0.8285 0.4074 -0.0002  0.0005\n",
      "======================================================================\n",
      "\n"
     ]
    }
   ],
   "source": [
    "fit_model = sm.Logit.from_formula(m.describe(), nhefs_nmv).fit()\n",
    "\n",
    "print fit_model.summary2()"
   ]
  },
  {
   "cell_type": "code",
   "execution_count": 204,
   "metadata": {},
   "outputs": [],
   "source": [
    "pd_qsmk = fit_model.predict()"
   ]
  },
  {
   "cell_type": "code",
   "execution_count": 205,
   "metadata": {},
   "outputs": [
    {
     "name": "stdout",
     "output_type": "stream",
     "text": [
      "Optimization terminated successfully.\n",
      "         Current function value: 0.567819\n",
      "         Iterations 5\n",
      "                         Results: Logit\n",
      "================================================================\n",
      "Model:              Logit            No. Iterations:   5.0000   \n",
      "Dependent Variable: qsmk             Pseudo R-squared: 0.004    \n",
      "Date:               2018-01-20 16:18 AIC:              1782.4086\n",
      "No. Observations:   1566             BIC:              1793.1211\n",
      "Df Model:           1                Log-Likelihood:   -889.20  \n",
      "Df Residuals:       1564             LL-Null:          -893.03  \n",
      "Converged:          1.0000           Scale:            1.0000   \n",
      "-----------------------------------------------------------------\n",
      "             Coef.   Std.Err.     z      P>|z|    [0.025   0.975]\n",
      "-----------------------------------------------------------------\n",
      "Intercept   -0.9016    0.0799  -11.2789  0.0000  -1.0583  -0.7450\n",
      "sex         -0.3202    0.1160   -2.7595  0.0058  -0.5476  -0.0928\n",
      "================================================================\n",
      "\n"
     ]
    }
   ],
   "source": [
    "fit_model = sm.Logit.from_formula('qsmk ~ sex', nhefs_nmv).fit()\n",
    "\n",
    "print fit_model.summary2()"
   ]
  },
  {
   "cell_type": "code",
   "execution_count": 206,
   "metadata": {},
   "outputs": [],
   "source": [
    "pn_qsmk = fit_model.predict()"
   ]
  },
  {
   "cell_type": "code",
   "execution_count": 207,
   "metadata": {},
   "outputs": [],
   "source": [
    "pd_qsmk[nhefs_nmv.qsmk == False] = 1 - pd_qsmk[nhefs_nmv.qsmk == False]\n",
    "pn_qsmk[nhefs_nmv.qsmk == False] = 1 - pn_qsmk[nhefs_nmv.qsmk == False]\n",
    "\n",
    "nhefs_sw = pn_qsmk / pd_qsmk"
   ]
  },
  {
   "cell_type": "code",
   "execution_count": null,
   "metadata": {},
   "outputs": [],
   "source": []
  },
  {
   "cell_type": "code",
   "execution_count": 208,
   "metadata": {},
   "outputs": [
    {
     "name": "stdout",
     "output_type": "stream",
     "text": [
      "                               GEE Regression Results                              \n",
      "===================================================================================\n",
      "Dep. Variable:                     wt82_71   No. Observations:                 1566\n",
      "Model:                                 GEE   No. clusters:                     1566\n",
      "Method:                        Generalized   Min. cluster size:                   1\n",
      "                      Estimating Equations   Max. cluster size:                   1\n",
      "Family:                           Gaussian   Mean cluster size:                 1.0\n",
      "Dependence structure:         Independence   Num. iterations:                     2\n",
      "Date:                     Sat, 20 Jan 2018   Scale:                          60.953\n",
      "Covariance type:                    robust   Time:                         16:21:21\n",
      "==============================================================================\n",
      "                 coef    std err          z      P>|z|      [0.025      0.975]\n",
      "------------------------------------------------------------------------------\n",
      "Intercept      1.7844      0.310      5.759      0.000       1.177       2.392\n",
      "qsmk           3.5220      0.657      5.360      0.000       2.234       4.810\n",
      "sex           -0.0087      0.449     -0.019      0.984      -0.888       0.871\n",
      "qsmk:sex      -0.1595      1.046     -0.152      0.879      -2.210       1.891\n",
      "==============================================================================\n",
      "Skew:                          0.1114   Kurtosis:                       3.7341\n",
      "Centered skew:                 0.0000   Centered kurtosis:             -3.0000\n",
      "==============================================================================\n"
     ]
    }
   ],
   "source": [
    "gee = sm.GEE.from_formula('wt82_71 ~ qsmk*sex', groups='seqn', data=nhefs_nmv, weights=nhefs_sw).fit()\n",
    "print gee.summary()"
   ]
  },
  {
   "cell_type": "code",
   "execution_count": null,
   "metadata": {},
   "outputs": [],
   "source": []
  },
  {
   "cell_type": "markdown",
   "metadata": {},
   "source": [
    "# 12.7"
   ]
  },
  {
   "cell_type": "code",
   "execution_count": 303,
   "metadata": {},
   "outputs": [
    {
     "data": {
      "text/plain": [
       "'qsmk ~ C(sex) + C(race) + age + I(age ** 2) + C(education) + smokeintensity + I(smokeintensity ** 2) + smokeyrs + I(smokeyrs ** 2) + C(exercise) + C(active) + wt71 + I(wt71 ** 2)'"
      ]
     },
     "execution_count": 303,
     "metadata": {},
     "output_type": "execute_result"
    }
   ],
   "source": [
    "from patsy import EvalFactor, ModelDesc, Term, LookupFactor\n",
    "\n",
    "model = [Term([])]\n",
    "model.append(LookupFactor('C(sex)'))\n",
    "model.append(LookupFactor('C(race)'))\n",
    "model.append(LookupFactor('age'))\n",
    "model.append(EvalFactor('I(age**2)'))\n",
    "model.append(LookupFactor('C(education)'))\n",
    "model.append(LookupFactor('smokeintensity'))\n",
    "model.append(EvalFactor('I(smokeintensity**2)'))\n",
    "model.append(LookupFactor('smokeyrs'))\n",
    "model.append(EvalFactor('I(smokeyrs**2)'))\n",
    "model.append(LookupFactor('C(exercise)'))\n",
    "model.append(LookupFactor('C(active)'))\n",
    "model.append(LookupFactor('wt71'))\n",
    "model.append(EvalFactor('I(wt71**2)'))\n",
    "\n",
    "\n",
    "m = ModelDesc([LookupFactor('qsmk')], model)\n",
    "m.describe()"
   ]
  },
  {
   "cell_type": "code",
   "execution_count": 304,
   "metadata": {},
   "outputs": [
    {
     "name": "stdout",
     "output_type": "stream",
     "text": [
      "Optimization terminated successfully.\n",
      "         Current function value: 0.542264\n",
      "         Iterations 6\n",
      "                            Results: Logit\n",
      "======================================================================\n",
      "Model:                Logit              No. Iterations:     6.0000   \n",
      "Dependent Variable:   qsmk               Pseudo R-squared:   0.058    \n",
      "Date:                 2018-01-20 17:00   AIC:                1804.6975\n",
      "No. Observations:     1629               BIC:                1907.2162\n",
      "Df Model:             18                 Log-Likelihood:     -883.35  \n",
      "Df Residuals:         1610               LL-Null:            -938.14  \n",
      "Converged:            1.0000             Scale:              1.0000   \n",
      "----------------------------------------------------------------------\n",
      "                        Coef.  Std.Err.    z    P>|z|   [0.025  0.975]\n",
      "----------------------------------------------------------------------\n",
      "Intercept              -1.9889   1.2413 -1.6023 0.1091 -4.4218  0.4440\n",
      "C(sex)[T.1]            -0.5075   0.1482 -3.4238 0.0006 -0.7981 -0.2170\n",
      "C(race)[T.1]           -0.8502   0.2059 -4.1299 0.0000 -1.2537 -0.4467\n",
      "C(education)[T.2]      -0.0983   0.1907 -0.5157 0.6061 -0.4720  0.2754\n",
      "C(education)[T.3]       0.0157   0.1707  0.0920 0.9267 -0.3189  0.3503\n",
      "C(education)[T.4]      -0.0425   0.2643 -0.1609 0.8722 -0.5605  0.4754\n",
      "C(education)[T.5]       0.3797   0.2204  1.7227 0.0850 -0.0523  0.8116\n",
      "C(exercise)[T.1]        0.2914   0.1736  1.6791 0.0931 -0.0487  0.6316\n",
      "C(exercise)[T.2]        0.3551   0.1799  1.9733 0.0485  0.0024  0.7077\n",
      "C(active)[T.1]          0.0109   0.1298  0.0838 0.9332 -0.2436  0.2653\n",
      "C(active)[T.2]          0.0683   0.2087  0.3273 0.7435 -0.3408  0.4774\n",
      "age                     0.1030   0.0489  2.1066 0.0351  0.0072  0.1989\n",
      "I(age ** 2)            -0.0006   0.0005 -1.1927 0.2330 -0.0016  0.0004\n",
      "smokeintensity         -0.0652   0.0148 -4.4147 0.0000 -0.0941 -0.0362\n",
      "I(smokeintensity ** 2)  0.0008   0.0003  3.0672 0.0022  0.0003  0.0014\n",
      "smokeyrs               -0.0734   0.0270 -2.7179 0.0066 -0.1263 -0.0205\n",
      "I(smokeyrs ** 2)        0.0008   0.0004  1.8907 0.0587 -0.0000  0.0017\n",
      "wt71                   -0.0128   0.0223 -0.5766 0.5642 -0.0565  0.0308\n",
      "I(wt71 ** 2)            0.0001   0.0001  0.8947 0.3710 -0.0001  0.0004\n",
      "======================================================================\n",
      "\n"
     ]
    }
   ],
   "source": [
    "fit_model = sm.Logit.from_formula(m.describe(), nhefs).fit()\n",
    "\n",
    "print fit_model.summary2()"
   ]
  },
  {
   "cell_type": "code",
   "execution_count": 305,
   "metadata": {},
   "outputs": [],
   "source": [
    "pd_qsmk = fit_model.predict()"
   ]
  },
  {
   "cell_type": "code",
   "execution_count": 306,
   "metadata": {},
   "outputs": [
    {
     "name": "stdout",
     "output_type": "stream",
     "text": [
      "Optimization terminated successfully.\n",
      "         Current function value: 0.575901\n",
      "         Iterations 5\n",
      "                         Results: Logit\n",
      "================================================================\n",
      "Model:              Logit            No. Iterations:   5.0000   \n",
      "Dependent Variable: qsmk             Pseudo R-squared: 0.000    \n",
      "Date:               2018-01-20 17:00 AIC:              1878.2862\n",
      "No. Observations:   1629             BIC:              1883.6819\n",
      "Df Model:           0                Log-Likelihood:   -938.14  \n",
      "Df Residuals:       1628             LL-Null:          -938.14  \n",
      "Converged:          1.0000           Scale:            1.0000   \n",
      "-----------------------------------------------------------------\n",
      "             Coef.   Std.Err.     z      P>|z|    [0.025   0.975]\n",
      "-----------------------------------------------------------------\n",
      "Intercept   -1.0318    0.0563  -18.3283  0.0000  -1.1421  -0.9215\n",
      "================================================================\n",
      "\n"
     ]
    }
   ],
   "source": [
    "fit_model = sm.Logit.from_formula('qsmk ~ 1', nhefs).fit()\n",
    "\n",
    "print fit_model.summary2()"
   ]
  },
  {
   "cell_type": "code",
   "execution_count": 307,
   "metadata": {},
   "outputs": [],
   "source": [
    "pn_qsmk = fit_model.predict()"
   ]
  },
  {
   "cell_type": "code",
   "execution_count": 308,
   "metadata": {},
   "outputs": [
    {
     "data": {
      "text/plain": [
       "'cens ~ C(sex) + C(race) + age + I(age ** 2) + C(education) + smokeintensity + I(smokeintensity ** 2) + smokeyrs + I(smokeyrs ** 2) + C(exercise) + C(active) + wt71 + I(wt71 ** 2) + qsmk'"
      ]
     },
     "execution_count": 308,
     "metadata": {},
     "output_type": "execute_result"
    }
   ],
   "source": [
    "from patsy import EvalFactor, ModelDesc, Term, LookupFactor\n",
    "\n",
    "model = [Term([])]\n",
    "model.append(LookupFactor('C(sex)'))\n",
    "model.append(LookupFactor('C(race)'))\n",
    "model.append(LookupFactor('age'))\n",
    "model.append(EvalFactor('I(age**2)'))\n",
    "model.append(LookupFactor('C(education)'))\n",
    "model.append(LookupFactor('smokeintensity'))\n",
    "model.append(EvalFactor('I(smokeintensity**2)'))\n",
    "model.append(LookupFactor('smokeyrs'))\n",
    "model.append(EvalFactor('I(smokeyrs**2)'))\n",
    "model.append(LookupFactor('C(exercise)'))\n",
    "model.append(LookupFactor('C(active)'))\n",
    "model.append(LookupFactor('wt71'))\n",
    "model.append(EvalFactor('I(wt71**2)'))\n",
    "\n",
    "model.append(LookupFactor('qsmk'))\n",
    "\n",
    "\n",
    "m = ModelDesc([LookupFactor('cens')], model)\n",
    "m.describe()"
   ]
  },
  {
   "cell_type": "code",
   "execution_count": 309,
   "metadata": {},
   "outputs": [
    {
     "name": "stdout",
     "output_type": "stream",
     "text": [
      "Optimization terminated successfully.\n",
      "         Current function value: 0.142836\n",
      "         Iterations 8\n",
      "                            Results: Logit\n",
      "======================================================================\n",
      "Model:                 Logit              No. Iterations:     8.0000  \n",
      "Dependent Variable:    cens               Pseudo R-squared:   0.127   \n",
      "Date:                  2018-01-20 17:00   AIC:                505.3600\n",
      "No. Observations:      1629               BIC:                613.2744\n",
      "Df Model:              19                 Log-Likelihood:     -232.68 \n",
      "Df Residuals:          1609               LL-Null:            -266.68 \n",
      "Converged:             1.0000             Scale:              1.0000  \n",
      "----------------------------------------------------------------------\n",
      "                        Coef.  Std.Err.    z    P>|z|   [0.025  0.975]\n",
      "----------------------------------------------------------------------\n",
      "Intercept               4.0145   2.5761  1.5583 0.1192 -1.0346  9.0635\n",
      "C(sex)[T.1]             0.0573   0.3303  0.1735 0.8622 -0.5900  0.7046\n",
      "C(race)[T.1]           -0.0123   0.4525 -0.0271 0.9784 -0.8991  0.8746\n",
      "C(education)[T.2]      -0.4408   0.4194 -1.0510 0.2933 -1.2628  0.3812\n",
      "C(education)[T.3]      -0.1647   0.3705 -0.4444 0.6567 -0.8909  0.5616\n",
      "C(education)[T.4]       0.1384   0.5698  0.2430 0.8080 -0.9783  1.2552\n",
      "C(education)[T.5]      -0.3824   0.5602 -0.6826 0.4949 -1.4803  0.7156\n",
      "C(exercise)[T.1]       -0.9715   0.3878 -2.5050 0.0122 -1.7316 -0.2114\n",
      "C(exercise)[T.2]       -0.5840   0.3723 -1.5685 0.1168 -1.3137  0.1457\n",
      "C(active)[T.1]         -0.2475   0.3255 -0.7604 0.4470 -0.8854  0.3904\n",
      "C(active)[T.2]          0.7066   0.3965  1.7822 0.0747 -0.0705  1.4836\n",
      "age                    -0.2697   0.1175 -2.2963 0.0217 -0.5000 -0.0395\n",
      "I(age ** 2)             0.0029   0.0011  2.5897 0.0096  0.0007  0.0051\n",
      "smokeintensity          0.0157   0.0347  0.4524 0.6510 -0.0524  0.0838\n",
      "I(smokeintensity ** 2) -0.0001   0.0006 -0.1869 0.8517 -0.0013  0.0011\n",
      "smokeyrs                0.0786   0.0750  1.0486 0.2944 -0.0683  0.2255\n",
      "I(smokeyrs ** 2)       -0.0006   0.0010 -0.5397 0.5894 -0.0026  0.0015\n",
      "wt71                   -0.0879   0.0400 -2.1965 0.0281 -0.1663 -0.0095\n",
      "I(wt71 ** 2)            0.0006   0.0002  2.8134 0.0049  0.0002  0.0011\n",
      "qsmk                    0.5169   0.2877  1.7964 0.0724 -0.0470  1.0808\n",
      "======================================================================\n",
      "\n"
     ]
    }
   ],
   "source": [
    "nhefs.cens = nhefs.cens.astype('int')\n",
    "\n",
    "fit_model = sm.Logit.from_formula(m.describe(), nhefs).fit()\n",
    "\n",
    "print fit_model.summary2()"
   ]
  },
  {
   "cell_type": "code",
   "execution_count": 310,
   "metadata": {},
   "outputs": [],
   "source": [
    "pd_cens = fit_model.predict()"
   ]
  },
  {
   "cell_type": "code",
   "execution_count": 311,
   "metadata": {},
   "outputs": [
    {
     "name": "stdout",
     "output_type": "stream",
     "text": [
      "Optimization terminated successfully.\n",
      "         Current function value: 0.161989\n",
      "         Iterations 7\n",
      "                        Results: Logit\n",
      "===============================================================\n",
      "Model:              Logit            No. Iterations:   7.0000  \n",
      "Dependent Variable: cens             Pseudo R-squared: 0.010   \n",
      "Date:               2018-01-20 17:00 AIC:              531.7602\n",
      "No. Observations:   1629             BIC:              542.5516\n",
      "Df Model:           1                Log-Likelihood:   -263.88 \n",
      "Df Residuals:       1627             LL-Null:          -266.68 \n",
      "Converged:          1.0000           Scale:            1.0000  \n",
      "----------------------------------------------------------------\n",
      "            Coef.   Std.Err.     z      P>|z|    [0.025   0.975]\n",
      "----------------------------------------------------------------\n",
      "Intercept  -3.4212    0.1649  -20.7532  0.0000  -3.7443  -3.0981\n",
      "qsmk        0.6411    0.2639    2.4291  0.0151   0.1238   1.1584\n",
      "===============================================================\n",
      "\n"
     ]
    }
   ],
   "source": [
    "fit_model = sm.Logit.from_formula('cens ~ qsmk + 1', nhefs).fit()\n",
    "\n",
    "print fit_model.summary2()"
   ]
  },
  {
   "cell_type": "code",
   "execution_count": 312,
   "metadata": {},
   "outputs": [],
   "source": [
    "pn_cens = fit_model.predict()"
   ]
  },
  {
   "cell_type": "code",
   "execution_count": 313,
   "metadata": {},
   "outputs": [
    {
     "data": {
      "text/plain": [
       "array([0.10899818, 0.14888633, 0.13419533, ..., 0.13818249, 0.44782907,\n",
       "       0.17771579])"
      ]
     },
     "execution_count": 313,
     "metadata": {},
     "output_type": "execute_result"
    }
   ],
   "source": [
    "pd_qsmk"
   ]
  },
  {
   "cell_type": "code",
   "execution_count": null,
   "metadata": {},
   "outputs": [],
   "source": []
  },
  {
   "cell_type": "code",
   "execution_count": null,
   "metadata": {},
   "outputs": [],
   "source": []
  },
  {
   "cell_type": "code",
   "execution_count": null,
   "metadata": {},
   "outputs": [],
   "source": []
  },
  {
   "cell_type": "code",
   "execution_count": null,
   "metadata": {},
   "outputs": [],
   "source": []
  },
  {
   "cell_type": "code",
   "execution_count": 314,
   "metadata": {},
   "outputs": [],
   "source": [
    "is_cens = nhefs.cens != 1\n",
    "\n",
    "pd_qsmk[nhefs.qsmk == False] = 1 - pd_qsmk[nhefs.qsmk == False]\n",
    "pn_qsmk[nhefs.qsmk == False] = 1 - pn_qsmk[nhefs.qsmk == False]\n",
    "\n",
    "pd_qsmk = pd_qsmk[is_cens]\n",
    "pn_qsmk = pn_qsmk[is_cens]\n",
    "pd_cens = pd_cens[is_cens]\n",
    "pn_cens = pn_cens[is_cens]\n",
    "\n",
    "qsmk_ratio = pn_qsmk / pd_qsmk\n",
    "sw = qsmk_ratio * (1 - pn_cens) / (1 - pd_cens)"
   ]
  },
  {
   "cell_type": "code",
   "execution_count": 315,
   "metadata": {},
   "outputs": [
    {
     "data": {
      "text/plain": [
       "array([0.82745299, 0.86623226, 0.85153401, ..., 0.86360829, 1.33520633,\n",
       "       1.47841607])"
      ]
     },
     "execution_count": 315,
     "metadata": {},
     "output_type": "execute_result"
    }
   ],
   "source": [
    "qsmk_ratio"
   ]
  },
  {
   "cell_type": "code",
   "execution_count": 316,
   "metadata": {},
   "outputs": [
    {
     "data": {
      "text/plain": [
       "array([0.82268622, 0.86329518, 0.83918764, ..., 0.8770074 , 1.40724683,\n",
       "       1.42001644])"
      ]
     },
     "execution_count": 316,
     "metadata": {},
     "output_type": "execute_result"
    }
   ],
   "source": [
    "sw"
   ]
  },
  {
   "cell_type": "code",
   "execution_count": 317,
   "metadata": {},
   "outputs": [
    {
     "name": "stdout",
     "output_type": "stream",
     "text": [
      "                               GEE Regression Results                              \n",
      "===================================================================================\n",
      "Dep. Variable:                     wt82_71   No. Observations:                 1566\n",
      "Model:                                 GEE   No. clusters:                     1566\n",
      "Method:                        Generalized   Min. cluster size:                   1\n",
      "                      Estimating Equations   Max. cluster size:                   1\n",
      "Family:                           Gaussian   Mean cluster size:                 1.0\n",
      "Dependence structure:         Independence   Num. iterations:                     2\n",
      "Date:                     Sat, 20 Jan 2018   Scale:                          61.861\n",
      "Covariance type:                    robust   Time:                         17:00:57\n",
      "==============================================================================\n",
      "                 coef    std err          z      P>|z|      [0.025      0.975]\n",
      "------------------------------------------------------------------------------\n",
      "Intercept      1.6620      0.233      7.141      0.000       1.206       2.118\n",
      "qsmk           3.4965      0.526      6.652      0.000       2.466       4.527\n",
      "==============================================================================\n",
      "Skew:                          0.1093   Kurtosis:                       3.7375\n",
      "Centered skew:                 0.0000   Centered kurtosis:             -3.0000\n",
      "==============================================================================\n"
     ]
    }
   ],
   "source": [
    "gee = sm.GEE.from_formula('wt82_71 ~ qsmk', groups='seqn', data=nhefs_nmv, weights=sw).fit()\n",
    "print gee.summary()"
   ]
  },
  {
   "cell_type": "code",
   "execution_count": null,
   "metadata": {},
   "outputs": [],
   "source": []
  },
  {
   "cell_type": "code",
   "execution_count": null,
   "metadata": {},
   "outputs": [],
   "source": []
  }
 ],
 "metadata": {
  "kernelspec": {
   "display_name": "Python 2",
   "language": "python",
   "name": "python2"
  },
  "language_info": {
   "codemirror_mode": {
    "name": "ipython",
    "version": 2
   },
   "file_extension": ".py",
   "mimetype": "text/x-python",
   "name": "python",
   "nbconvert_exporter": "python",
   "pygments_lexer": "ipython2",
   "version": "2.7.13"
  }
 },
 "nbformat": 4,
 "nbformat_minor": 2
}
