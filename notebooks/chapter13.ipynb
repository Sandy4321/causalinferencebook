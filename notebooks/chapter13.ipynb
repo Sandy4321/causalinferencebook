{
 "cells": [
  {
   "cell_type": "markdown",
   "metadata": {},
   "source": [
    "# 13.1"
   ]
  },
  {
   "cell_type": "code",
   "execution_count": 34,
   "metadata": {},
   "outputs": [
    {
     "data": {
      "text/html": [
       "<div>\n",
       "<style scoped>\n",
       "    .dataframe tbody tr th:only-of-type {\n",
       "        vertical-align: middle;\n",
       "    }\n",
       "\n",
       "    .dataframe tbody tr th {\n",
       "        vertical-align: top;\n",
       "    }\n",
       "\n",
       "    .dataframe thead th {\n",
       "        text-align: right;\n",
       "    }\n",
       "</style>\n",
       "<table border=\"1\" class=\"dataframe\">\n",
       "  <thead>\n",
       "    <tr style=\"text-align: right;\">\n",
       "      <th></th>\n",
       "      <th>seqn</th>\n",
       "      <th>qsmk</th>\n",
       "      <th>death</th>\n",
       "      <th>yrdth</th>\n",
       "      <th>modth</th>\n",
       "      <th>dadth</th>\n",
       "      <th>sbp</th>\n",
       "      <th>dbp</th>\n",
       "      <th>sex</th>\n",
       "      <th>age</th>\n",
       "      <th>...</th>\n",
       "      <th>birthcontrol</th>\n",
       "      <th>pregnancies</th>\n",
       "      <th>cholesterol</th>\n",
       "      <th>hightax82</th>\n",
       "      <th>price71</th>\n",
       "      <th>price82</th>\n",
       "      <th>tax71</th>\n",
       "      <th>tax82</th>\n",
       "      <th>price71_82</th>\n",
       "      <th>tax71_82</th>\n",
       "    </tr>\n",
       "  </thead>\n",
       "  <tbody>\n",
       "    <tr>\n",
       "      <th>count</th>\n",
       "      <td>1629.000000</td>\n",
       "      <td>1629.000000</td>\n",
       "      <td>1629.000000</td>\n",
       "      <td>318.000000</td>\n",
       "      <td>322.000000</td>\n",
       "      <td>322.000000</td>\n",
       "      <td>1552.000000</td>\n",
       "      <td>1548.000000</td>\n",
       "      <td>1629.000000</td>\n",
       "      <td>1629.000000</td>\n",
       "      <td>...</td>\n",
       "      <td>1629.000000</td>\n",
       "      <td>726.00000</td>\n",
       "      <td>1613.000000</td>\n",
       "      <td>1537.000000</td>\n",
       "      <td>1537.000000</td>\n",
       "      <td>1537.000000</td>\n",
       "      <td>1537.000000</td>\n",
       "      <td>1537.000000</td>\n",
       "      <td>1537.000000</td>\n",
       "      <td>1537.000000</td>\n",
       "    </tr>\n",
       "    <tr>\n",
       "      <th>mean</th>\n",
       "      <td>16552.364641</td>\n",
       "      <td>0.262738</td>\n",
       "      <td>0.195212</td>\n",
       "      <td>87.569182</td>\n",
       "      <td>6.257764</td>\n",
       "      <td>15.872671</td>\n",
       "      <td>128.709407</td>\n",
       "      <td>77.744832</td>\n",
       "      <td>0.509515</td>\n",
       "      <td>43.915285</td>\n",
       "      <td>...</td>\n",
       "      <td>1.084715</td>\n",
       "      <td>3.69146</td>\n",
       "      <td>219.973962</td>\n",
       "      <td>0.165908</td>\n",
       "      <td>2.138750</td>\n",
       "      <td>1.806095</td>\n",
       "      <td>1.058581</td>\n",
       "      <td>0.505983</td>\n",
       "      <td>0.332741</td>\n",
       "      <td>0.552614</td>\n",
       "    </tr>\n",
       "    <tr>\n",
       "      <th>std</th>\n",
       "      <td>7498.918195</td>\n",
       "      <td>0.440256</td>\n",
       "      <td>0.396485</td>\n",
       "      <td>2.659415</td>\n",
       "      <td>3.615304</td>\n",
       "      <td>8.905488</td>\n",
       "      <td>19.051560</td>\n",
       "      <td>10.634864</td>\n",
       "      <td>0.500063</td>\n",
       "      <td>12.170430</td>\n",
       "      <td>...</td>\n",
       "      <td>0.947747</td>\n",
       "      <td>2.20560</td>\n",
       "      <td>45.444202</td>\n",
       "      <td>0.372119</td>\n",
       "      <td>0.229016</td>\n",
       "      <td>0.130641</td>\n",
       "      <td>0.216229</td>\n",
       "      <td>0.111894</td>\n",
       "      <td>0.155045</td>\n",
       "      <td>0.150321</td>\n",
       "    </tr>\n",
       "    <tr>\n",
       "      <th>min</th>\n",
       "      <td>233.000000</td>\n",
       "      <td>0.000000</td>\n",
       "      <td>0.000000</td>\n",
       "      <td>83.000000</td>\n",
       "      <td>1.000000</td>\n",
       "      <td>1.000000</td>\n",
       "      <td>87.000000</td>\n",
       "      <td>47.000000</td>\n",
       "      <td>0.000000</td>\n",
       "      <td>25.000000</td>\n",
       "      <td>...</td>\n",
       "      <td>0.000000</td>\n",
       "      <td>1.00000</td>\n",
       "      <td>78.000000</td>\n",
       "      <td>0.000000</td>\n",
       "      <td>1.506592</td>\n",
       "      <td>1.451904</td>\n",
       "      <td>0.524902</td>\n",
       "      <td>0.219971</td>\n",
       "      <td>-0.202698</td>\n",
       "      <td>0.035995</td>\n",
       "    </tr>\n",
       "    <tr>\n",
       "      <th>25%</th>\n",
       "      <td>10607.000000</td>\n",
       "      <td>0.000000</td>\n",
       "      <td>0.000000</td>\n",
       "      <td>85.000000</td>\n",
       "      <td>3.000000</td>\n",
       "      <td>8.000000</td>\n",
       "      <td>116.000000</td>\n",
       "      <td>70.000000</td>\n",
       "      <td>0.000000</td>\n",
       "      <td>33.000000</td>\n",
       "      <td>...</td>\n",
       "      <td>0.000000</td>\n",
       "      <td>2.00000</td>\n",
       "      <td>189.000000</td>\n",
       "      <td>0.000000</td>\n",
       "      <td>2.036621</td>\n",
       "      <td>1.739990</td>\n",
       "      <td>0.944946</td>\n",
       "      <td>0.439941</td>\n",
       "      <td>0.200989</td>\n",
       "      <td>0.460999</td>\n",
       "    </tr>\n",
       "    <tr>\n",
       "      <th>50%</th>\n",
       "      <td>20333.000000</td>\n",
       "      <td>0.000000</td>\n",
       "      <td>0.000000</td>\n",
       "      <td>88.000000</td>\n",
       "      <td>6.000000</td>\n",
       "      <td>15.500000</td>\n",
       "      <td>126.000000</td>\n",
       "      <td>77.000000</td>\n",
       "      <td>1.000000</td>\n",
       "      <td>44.000000</td>\n",
       "      <td>...</td>\n",
       "      <td>1.000000</td>\n",
       "      <td>3.00000</td>\n",
       "      <td>216.000000</td>\n",
       "      <td>0.000000</td>\n",
       "      <td>2.167969</td>\n",
       "      <td>1.814941</td>\n",
       "      <td>1.049805</td>\n",
       "      <td>0.505981</td>\n",
       "      <td>0.335999</td>\n",
       "      <td>0.543945</td>\n",
       "    </tr>\n",
       "    <tr>\n",
       "      <th>75%</th>\n",
       "      <td>22719.000000</td>\n",
       "      <td>1.000000</td>\n",
       "      <td>0.000000</td>\n",
       "      <td>90.000000</td>\n",
       "      <td>10.000000</td>\n",
       "      <td>24.000000</td>\n",
       "      <td>140.000000</td>\n",
       "      <td>85.000000</td>\n",
       "      <td>1.000000</td>\n",
       "      <td>53.000000</td>\n",
       "      <td>...</td>\n",
       "      <td>2.000000</td>\n",
       "      <td>5.00000</td>\n",
       "      <td>245.000000</td>\n",
       "      <td>0.000000</td>\n",
       "      <td>2.241699</td>\n",
       "      <td>1.867676</td>\n",
       "      <td>1.154785</td>\n",
       "      <td>0.571899</td>\n",
       "      <td>0.443787</td>\n",
       "      <td>0.621948</td>\n",
       "    </tr>\n",
       "    <tr>\n",
       "      <th>max</th>\n",
       "      <td>25061.000000</td>\n",
       "      <td>1.000000</td>\n",
       "      <td>1.000000</td>\n",
       "      <td>92.000000</td>\n",
       "      <td>12.000000</td>\n",
       "      <td>31.000000</td>\n",
       "      <td>229.000000</td>\n",
       "      <td>130.000000</td>\n",
       "      <td>1.000000</td>\n",
       "      <td>74.000000</td>\n",
       "      <td>...</td>\n",
       "      <td>2.000000</td>\n",
       "      <td>15.00000</td>\n",
       "      <td>416.000000</td>\n",
       "      <td>1.000000</td>\n",
       "      <td>2.692871</td>\n",
       "      <td>2.103027</td>\n",
       "      <td>1.522461</td>\n",
       "      <td>0.747925</td>\n",
       "      <td>0.612061</td>\n",
       "      <td>0.884399</td>\n",
       "    </tr>\n",
       "  </tbody>\n",
       "</table>\n",
       "<p>8 rows × 64 columns</p>\n",
       "</div>"
      ],
      "text/plain": [
       "               seqn         qsmk        death       yrdth       modth  \\\n",
       "count   1629.000000  1629.000000  1629.000000  318.000000  322.000000   \n",
       "mean   16552.364641     0.262738     0.195212   87.569182    6.257764   \n",
       "std     7498.918195     0.440256     0.396485    2.659415    3.615304   \n",
       "min      233.000000     0.000000     0.000000   83.000000    1.000000   \n",
       "25%    10607.000000     0.000000     0.000000   85.000000    3.000000   \n",
       "50%    20333.000000     0.000000     0.000000   88.000000    6.000000   \n",
       "75%    22719.000000     1.000000     0.000000   90.000000   10.000000   \n",
       "max    25061.000000     1.000000     1.000000   92.000000   12.000000   \n",
       "\n",
       "            dadth          sbp          dbp          sex          age  \\\n",
       "count  322.000000  1552.000000  1548.000000  1629.000000  1629.000000   \n",
       "mean    15.872671   128.709407    77.744832     0.509515    43.915285   \n",
       "std      8.905488    19.051560    10.634864     0.500063    12.170430   \n",
       "min      1.000000    87.000000    47.000000     0.000000    25.000000   \n",
       "25%      8.000000   116.000000    70.000000     0.000000    33.000000   \n",
       "50%     15.500000   126.000000    77.000000     1.000000    44.000000   \n",
       "75%     24.000000   140.000000    85.000000     1.000000    53.000000   \n",
       "max     31.000000   229.000000   130.000000     1.000000    74.000000   \n",
       "\n",
       "          ...       birthcontrol  pregnancies  cholesterol    hightax82  \\\n",
       "count     ...        1629.000000    726.00000  1613.000000  1537.000000   \n",
       "mean      ...           1.084715      3.69146   219.973962     0.165908   \n",
       "std       ...           0.947747      2.20560    45.444202     0.372119   \n",
       "min       ...           0.000000      1.00000    78.000000     0.000000   \n",
       "25%       ...           0.000000      2.00000   189.000000     0.000000   \n",
       "50%       ...           1.000000      3.00000   216.000000     0.000000   \n",
       "75%       ...           2.000000      5.00000   245.000000     0.000000   \n",
       "max       ...           2.000000     15.00000   416.000000     1.000000   \n",
       "\n",
       "           price71      price82        tax71        tax82   price71_82  \\\n",
       "count  1537.000000  1537.000000  1537.000000  1537.000000  1537.000000   \n",
       "mean      2.138750     1.806095     1.058581     0.505983     0.332741   \n",
       "std       0.229016     0.130641     0.216229     0.111894     0.155045   \n",
       "min       1.506592     1.451904     0.524902     0.219971    -0.202698   \n",
       "25%       2.036621     1.739990     0.944946     0.439941     0.200989   \n",
       "50%       2.167969     1.814941     1.049805     0.505981     0.335999   \n",
       "75%       2.241699     1.867676     1.154785     0.571899     0.443787   \n",
       "max       2.692871     2.103027     1.522461     0.747925     0.612061   \n",
       "\n",
       "          tax71_82  \n",
       "count  1537.000000  \n",
       "mean      0.552614  \n",
       "std       0.150321  \n",
       "min       0.035995  \n",
       "25%       0.460999  \n",
       "50%       0.543945  \n",
       "75%       0.621948  \n",
       "max       0.884399  \n",
       "\n",
       "[8 rows x 64 columns]"
      ]
     },
     "execution_count": 34,
     "metadata": {},
     "output_type": "execute_result"
    }
   ],
   "source": [
    "import pandas as pd\n",
    "\n",
    "nhefs = pd.read_csv('../data/nhefs.csv')\n",
    "nhefs.describe()"
   ]
  },
  {
   "cell_type": "code",
   "execution_count": 35,
   "metadata": {},
   "outputs": [],
   "source": [
    "nhefs['cens'] = nhefs.wt82.isnull()"
   ]
  },
  {
   "cell_type": "code",
   "execution_count": 52,
   "metadata": {},
   "outputs": [],
   "source": [
    "covars = ['sex', 'race', 'age', 'education', 'smokeintensity', 'smokeyrs', 'exercise', 'active', 'wt71', 'wt82', 'qsmk', 'wt82_71']\n",
    "\n",
    "res_nhefs = nhefs[covars]"
   ]
  },
  {
   "cell_type": "code",
   "execution_count": 53,
   "metadata": {},
   "outputs": [],
   "source": [
    "res_nhefs = res_nhefs.dropna()"
   ]
  },
  {
   "cell_type": "code",
   "execution_count": 54,
   "metadata": {},
   "outputs": [
    {
     "data": {
      "text/plain": [
       "sex               1566\n",
       "race              1566\n",
       "age               1566\n",
       "education         1566\n",
       "smokeintensity    1566\n",
       "smokeyrs          1566\n",
       "exercise          1566\n",
       "active            1566\n",
       "wt71              1566\n",
       "wt82              1566\n",
       "qsmk              1566\n",
       "wt82_71           1566\n",
       "dtype: int64"
      ]
     },
     "execution_count": 54,
     "metadata": {},
     "output_type": "execute_result"
    }
   ],
   "source": [
    "res_nhefs.count()"
   ]
  },
  {
   "cell_type": "code",
   "execution_count": null,
   "metadata": {},
   "outputs": [],
   "source": []
  },
  {
   "cell_type": "code",
   "execution_count": 55,
   "metadata": {},
   "outputs": [],
   "source": [
    "import statsmodels.formula.api as smf"
   ]
  },
  {
   "cell_type": "code",
   "execution_count": 66,
   "metadata": {},
   "outputs": [
    {
     "data": {
      "text/plain": [
       "'wt82_71 ~ C(sex) + C(race) + age + I(age ** 2) + C(education) + smokeintensity + I(smokeintensity ** 2) + smokeyrs + I(smokeyrs ** 2) + C(exercise) + C(active) + wt71 + I(wt71 ** 2) + qsmk + qsmk: smokeintensity'"
      ]
     },
     "execution_count": 66,
     "metadata": {},
     "output_type": "execute_result"
    }
   ],
   "source": [
    "from patsy import EvalFactor, ModelDesc, Term, LookupFactor\n",
    "\n",
    "model = [Term([])]\n",
    "model.append(LookupFactor('C(sex)'))\n",
    "model.append(LookupFactor('C(race)'))\n",
    "model.append(LookupFactor('age'))\n",
    "model.append(EvalFactor('I(age**2)'))\n",
    "model.append(LookupFactor('C(education)'))\n",
    "model.append(LookupFactor('smokeintensity'))\n",
    "model.append(EvalFactor('I(smokeintensity**2)'))\n",
    "model.append(LookupFactor('smokeyrs'))\n",
    "model.append(EvalFactor('I(smokeyrs**2)'))\n",
    "model.append(LookupFactor('C(exercise)'))\n",
    "model.append(LookupFactor('C(active)'))\n",
    "model.append(LookupFactor('wt71'))\n",
    "model.append(EvalFactor('I(wt71**2)'))\n",
    "model.append(LookupFactor('qsmk'))\n",
    "model.append(EvalFactor('qsmk:smokeintensity'))\n",
    "\n",
    "\n",
    "m = ModelDesc([LookupFactor('wt82_71')], model)\n",
    "m.describe()"
   ]
  },
  {
   "cell_type": "code",
   "execution_count": 67,
   "metadata": {},
   "outputs": [],
   "source": [
    "fit_model = smf.OLS.from_formula(m.describe(), res_nhefs).fit()"
   ]
  },
  {
   "cell_type": "code",
   "execution_count": 68,
   "metadata": {},
   "outputs": [],
   "source": [
    "predicted_mean = fit_model.predict()"
   ]
  },
  {
   "cell_type": "code",
   "execution_count": 69,
   "metadata": {},
   "outputs": [
    {
     "name": "stdout",
     "output_type": "stream",
     "text": [
      "                            OLS Regression Results                            \n",
      "==============================================================================\n",
      "Dep. Variable:                wt82_71   R-squared:                       0.148\n",
      "Model:                            OLS   Adj. R-squared:                  0.137\n",
      "Method:                 Least Squares   F-statistic:                     13.45\n",
      "Date:                Sun, 28 Jan 2018   Prob (F-statistic):           1.47e-41\n",
      "Time:                        15:28:22   Log-Likelihood:                -5328.6\n",
      "No. Observations:                1566   AIC:                         1.070e+04\n",
      "Df Residuals:                    1545   BIC:                         1.081e+04\n",
      "Df Model:                          20                                         \n",
      "Covariance Type:            nonrobust                                         \n",
      "==========================================================================================\n",
      "                             coef    std err          t      P>|t|      [0.025      0.975]\n",
      "------------------------------------------------------------------------------------------\n",
      "Intercept                 -1.5882      4.313     -0.368      0.713     -10.048       6.872\n",
      "C(sex)[T.1]               -1.4303      0.469     -3.050      0.002      -2.350      -0.510\n",
      "C(race)[T.1]               0.5601      0.582      0.963      0.336      -0.581       1.701\n",
      "C(education)[T.2]          0.7904      0.607      1.302      0.193      -0.400       1.981\n",
      "C(education)[T.3]          0.5563      0.556      1.000      0.317      -0.534       1.647\n",
      "C(education)[T.4]          1.4916      0.832      1.792      0.073      -0.141       3.124\n",
      "C(education)[T.5]         -0.1950      0.741     -0.263      0.793      -1.649       1.259\n",
      "C(exercise)[T.1]           0.2960      0.535      0.553      0.580      -0.754       1.346\n",
      "C(exercise)[T.2]           0.3539      0.559      0.633      0.527      -0.742       1.450\n",
      "C(active)[T.1]            -0.9476      0.410     -2.312      0.021      -1.752      -0.143\n",
      "C(active)[T.2]            -0.2614      0.685     -0.382      0.703      -1.604       1.081\n",
      "age                        0.3596      0.163      2.202      0.028       0.039       0.680\n",
      "I(age ** 2)               -0.0061      0.002     -3.534      0.000      -0.009      -0.003\n",
      "smokeintensity             0.0491      0.052      0.950      0.342      -0.052       0.151\n",
      "I(smokeintensity ** 2)    -0.0010      0.001     -1.056      0.291      -0.003       0.001\n",
      "smokeyrs                   0.1344      0.092      1.465      0.143      -0.046       0.314\n",
      "I(smokeyrs ** 2)          -0.0019      0.002     -1.209      0.227      -0.005       0.001\n",
      "wt71                       0.0455      0.083      0.546      0.585      -0.118       0.209\n",
      "I(wt71 ** 2)              -0.0010      0.001     -1.840      0.066      -0.002    6.39e-05\n",
      "qsmk                       2.5596      0.809      3.163      0.002       0.972       4.147\n",
      "qsmk:smokeintensity        0.0467      0.035      1.328      0.184      -0.022       0.116\n",
      "==============================================================================\n",
      "Omnibus:                      201.687   Durbin-Watson:                   2.008\n",
      "Prob(Omnibus):                  0.000   Jarque-Bera (JB):             1022.968\n",
      "Skew:                           0.492   Prob(JB):                    7.34e-223\n",
      "Kurtosis:                       6.835   Cond. No.                     1.44e+05\n",
      "==============================================================================\n",
      "\n",
      "Warnings:\n",
      "[1] Standard Errors assume that the covariance matrix of the errors is correctly specified.\n",
      "[2] The condition number is large, 1.44e+05. This might indicate that there are\n",
      "strong multicollinearity or other numerical problems.\n"
     ]
    }
   ],
   "source": [
    "print(fit_model.summary())"
   ]
  },
  {
   "cell_type": "code",
   "execution_count": 70,
   "metadata": {},
   "outputs": [
    {
     "data": {
      "text/html": [
       "<div>\n",
       "<style scoped>\n",
       "    .dataframe tbody tr th:only-of-type {\n",
       "        vertical-align: middle;\n",
       "    }\n",
       "\n",
       "    .dataframe tbody tr th {\n",
       "        vertical-align: top;\n",
       "    }\n",
       "\n",
       "    .dataframe thead th {\n",
       "        text-align: right;\n",
       "    }\n",
       "</style>\n",
       "<table border=\"1\" class=\"dataframe\">\n",
       "  <thead>\n",
       "    <tr style=\"text-align: right;\">\n",
       "      <th></th>\n",
       "      <th>sex</th>\n",
       "      <th>race</th>\n",
       "      <th>age</th>\n",
       "      <th>education</th>\n",
       "      <th>smokeintensity</th>\n",
       "      <th>smokeyrs</th>\n",
       "      <th>exercise</th>\n",
       "      <th>active</th>\n",
       "      <th>wt71</th>\n",
       "      <th>wt82</th>\n",
       "      <th>qsmk</th>\n",
       "      <th>wt82_71</th>\n",
       "    </tr>\n",
       "  </thead>\n",
       "  <tbody>\n",
       "    <tr>\n",
       "      <th>1581</th>\n",
       "      <td>0</td>\n",
       "      <td>0</td>\n",
       "      <td>26</td>\n",
       "      <td>4</td>\n",
       "      <td>15</td>\n",
       "      <td>12</td>\n",
       "      <td>1</td>\n",
       "      <td>0</td>\n",
       "      <td>111.58</td>\n",
       "      <td>114.75887</td>\n",
       "      <td>0</td>\n",
       "      <td>3.17887</td>\n",
       "    </tr>\n",
       "  </tbody>\n",
       "</table>\n",
       "</div>"
      ],
      "text/plain": [
       "      sex  race  age  education  smokeintensity  smokeyrs  exercise  active  \\\n",
       "1581    0     0   26          4              15        12         1       0   \n",
       "\n",
       "        wt71       wt82  qsmk  wt82_71  \n",
       "1581  111.58  114.75887     0  3.17887  "
      ]
     },
     "execution_count": 70,
     "metadata": {},
     "output_type": "execute_result"
    }
   ],
   "source": [
    "nhefs[nhefs.seqn == 24770][covars]"
   ]
  },
  {
   "cell_type": "code",
   "execution_count": 76,
   "metadata": {},
   "outputs": [
    {
     "name": "stdout",
     "output_type": "stream",
     "text": [
      "1581    3.17887\n",
      "Name: wt82_71, dtype: float64\n"
     ]
    }
   ],
   "source": [
    "print nhefs[nhefs.seqn == 24770]['wt82_71']"
   ]
  },
  {
   "cell_type": "code",
   "execution_count": null,
   "metadata": {},
   "outputs": [],
   "source": []
  },
  {
   "cell_type": "code",
   "execution_count": 75,
   "metadata": {},
   "outputs": [
    {
     "data": {
      "text/plain": [
       "1581    0.342157\n",
       "dtype: float64"
      ]
     },
     "execution_count": 75,
     "metadata": {},
     "output_type": "execute_result"
    }
   ],
   "source": [
    "covars = ['sex', 'race', 'age', 'education', 'smokeintensity', 'smokeyrs', 'exercise', 'active', 'wt71', 'wt82', 'qsmk']\n",
    "\n",
    "\n",
    "fit_model.predict(nhefs[nhefs.seqn == 24770][covars])"
   ]
  },
  {
   "cell_type": "code",
   "execution_count": null,
   "metadata": {},
   "outputs": [],
   "source": []
  },
  {
   "cell_type": "code",
   "execution_count": 77,
   "metadata": {},
   "outputs": [
    {
     "data": {
      "text/plain": [
       "2.6382997865633"
      ]
     },
     "execution_count": 77,
     "metadata": {},
     "output_type": "execute_result"
    }
   ],
   "source": [
    "predicted_mean.mean()"
   ]
  },
  {
   "cell_type": "code",
   "execution_count": 78,
   "metadata": {},
   "outputs": [
    {
     "data": {
      "text/plain": [
       "2.6382997865644957"
      ]
     },
     "execution_count": 78,
     "metadata": {},
     "output_type": "execute_result"
    }
   ],
   "source": [
    "res_nhefs.wt82_71.mean()"
   ]
  },
  {
   "cell_type": "markdown",
   "metadata": {},
   "source": [
    "# 13.2"
   ]
  },
  {
   "cell_type": "code",
   "execution_count": 80,
   "metadata": {},
   "outputs": [],
   "source": [
    "data = {\n",
    "'d':[\"Rheia\", \"Kronos\", \"Demeter\", \"Hades\", \"Hestia\", \"Poseidon\", \n",
    "  \"Hera\", \"Zeus\", \"Artemis\", \"Apollo\", \"Leto\", \"Ares\", \"Athena\", \n",
    "  \"Hephaestus\", \"Aphrodite\", \"Cyclope\", \"Persephone\", \"Hermes\", \n",
    "  \"Hebe\", \"Dionysus\"], \n",
    "'L':[0, 0, 0, 0, 0, 0, 0, 0, 1, 1, 1, 1, 1, 1, 1, 1, 1, 1, 1, 1],\n",
    "'A':[0, 0, 0, 0, 1, 1, 1, 1, 0, 0, 0, 1, 1, 1, 1, 1, 1, 1, 1, 1],\n",
    "'Y':[0, 1, 0, 0, 0, 0, 0, 1, 1, 1, 0, 1, 1, 1, 1, 1, 1, 0, 0, 0]\n",
    "}"
   ]
  },
  {
   "cell_type": "code",
   "execution_count": 81,
   "metadata": {},
   "outputs": [],
   "source": [
    "gods = pd.DataFrame(data)"
   ]
  },
  {
   "cell_type": "code",
   "execution_count": 89,
   "metadata": {},
   "outputs": [],
   "source": [
    "observed = gods.copy()\n",
    "observed['interv'] = -1"
   ]
  },
  {
   "cell_type": "code",
   "execution_count": 91,
   "metadata": {},
   "outputs": [],
   "source": [
    "untreated = gods.copy()\n",
    "untreated['Y'] = pd.np.nan\n",
    "untreated['A'] = 0\n",
    "untreated['interv'] = 0"
   ]
  },
  {
   "cell_type": "code",
   "execution_count": 92,
   "metadata": {},
   "outputs": [],
   "source": [
    "treated = gods.copy()\n",
    "treated['Y'] = pd.np.nan\n",
    "treated['A'] = 1\n",
    "treated['interv'] = 1"
   ]
  },
  {
   "cell_type": "code",
   "execution_count": 95,
   "metadata": {},
   "outputs": [],
   "source": [
    "data = pd.concat([observed, untreated, treated])"
   ]
  },
  {
   "cell_type": "code",
   "execution_count": 83,
   "metadata": {},
   "outputs": [
    {
     "name": "stdout",
     "output_type": "stream",
     "text": [
      "Optimization terminated successfully.\n",
      "         Current function value: 0.606843\n",
      "         Iterations 5\n"
     ]
    }
   ],
   "source": [
    "fit_model = smf.Logit.from_formula('Y ~ A*L', gods).fit()"
   ]
  },
  {
   "cell_type": "code",
   "execution_count": 86,
   "metadata": {},
   "outputs": [
    {
     "name": "stdout",
     "output_type": "stream",
     "text": [
      "                        Results: Logit\n",
      "==============================================================\n",
      "Model:              Logit            No. Iterations:   5.0000 \n",
      "Dependent Variable: Y                Pseudo R-squared: 0.125  \n",
      "Date:               2018-01-28 15:37 AIC:              32.2737\n",
      "No. Observations:   20               BIC:              36.2566\n",
      "Df Model:           3                Log-Likelihood:   -12.137\n",
      "Df Residuals:       16               LL-Null:          -13.863\n",
      "Converged:          1.0000           Scale:            1.0000 \n",
      "---------------------------------------------------------------\n",
      "             Coef.   Std.Err.     z     P>|z|    [0.025  0.975]\n",
      "---------------------------------------------------------------\n",
      "Intercept   -1.0986    1.1547  -0.9514  0.3414  -3.3618  1.1646\n",
      "A           -0.0000    1.6330  -0.0000  1.0000  -3.2006  3.2006\n",
      "L            1.7918    1.6833   1.0645  0.2871  -1.5074  5.0909\n",
      "A:L          0.0000    2.1602   0.0000  1.0000  -4.2340  4.2340\n",
      "==============================================================\n",
      "\n"
     ]
    }
   ],
   "source": [
    "print fit_model.summary2()"
   ]
  },
  {
   "cell_type": "code",
   "execution_count": 87,
   "metadata": {},
   "outputs": [
    {
     "data": {
      "text/plain": [
       "array([0.25      , 0.25      , 0.25      , 0.25      , 0.25      ,\n",
       "       0.25      , 0.25      , 0.25      , 0.66666667, 0.66666667,\n",
       "       0.66666667, 0.66666667, 0.66666667, 0.66666667, 0.66666667,\n",
       "       0.66666667, 0.66666667, 0.66666667, 0.66666667, 0.66666667])"
      ]
     },
     "execution_count": 87,
     "metadata": {},
     "output_type": "execute_result"
    }
   ],
   "source": [
    "fit_model.predict()"
   ]
  },
  {
   "cell_type": "code",
   "execution_count": 98,
   "metadata": {},
   "outputs": [],
   "source": [
    "data['preds'] = fit_model.predict(data)"
   ]
  },
  {
   "cell_type": "code",
   "execution_count": 99,
   "metadata": {},
   "outputs": [
    {
     "data": {
      "text/html": [
       "<div>\n",
       "<style scoped>\n",
       "    .dataframe tbody tr th:only-of-type {\n",
       "        vertical-align: middle;\n",
       "    }\n",
       "\n",
       "    .dataframe tbody tr th {\n",
       "        vertical-align: top;\n",
       "    }\n",
       "\n",
       "    .dataframe thead th {\n",
       "        text-align: right;\n",
       "    }\n",
       "</style>\n",
       "<table border=\"1\" class=\"dataframe\">\n",
       "  <thead>\n",
       "    <tr style=\"text-align: right;\">\n",
       "      <th>interv</th>\n",
       "      <th>-1</th>\n",
       "      <th>0</th>\n",
       "      <th>1</th>\n",
       "    </tr>\n",
       "  </thead>\n",
       "  <tbody>\n",
       "    <tr>\n",
       "      <th>preds</th>\n",
       "      <td>0.5</td>\n",
       "      <td>0.5</td>\n",
       "      <td>0.5</td>\n",
       "    </tr>\n",
       "  </tbody>\n",
       "</table>\n",
       "</div>"
      ],
      "text/plain": [
       "interv   -1    0    1\n",
       "preds   0.5  0.5  0.5"
      ]
     },
     "execution_count": 99,
     "metadata": {},
     "output_type": "execute_result"
    }
   ],
   "source": [
    "pd.pivot_table(data, ['preds'], columns=['interv'])"
   ]
  },
  {
   "cell_type": "markdown",
   "metadata": {},
   "source": [
    "# 13.3"
   ]
  },
  {
   "cell_type": "code",
   "execution_count": 100,
   "metadata": {},
   "outputs": [
    {
     "data": {
      "text/html": [
       "<div>\n",
       "<style scoped>\n",
       "    .dataframe tbody tr th:only-of-type {\n",
       "        vertical-align: middle;\n",
       "    }\n",
       "\n",
       "    .dataframe tbody tr th {\n",
       "        vertical-align: top;\n",
       "    }\n",
       "\n",
       "    .dataframe thead th {\n",
       "        text-align: right;\n",
       "    }\n",
       "</style>\n",
       "<table border=\"1\" class=\"dataframe\">\n",
       "  <thead>\n",
       "    <tr style=\"text-align: right;\">\n",
       "      <th></th>\n",
       "      <th>sex</th>\n",
       "      <th>race</th>\n",
       "      <th>age</th>\n",
       "      <th>education</th>\n",
       "      <th>smokeintensity</th>\n",
       "      <th>smokeyrs</th>\n",
       "      <th>exercise</th>\n",
       "      <th>active</th>\n",
       "      <th>wt71</th>\n",
       "      <th>wt82</th>\n",
       "      <th>qsmk</th>\n",
       "      <th>wt82_71</th>\n",
       "    </tr>\n",
       "  </thead>\n",
       "  <tbody>\n",
       "    <tr>\n",
       "      <th>count</th>\n",
       "      <td>1566.00000</td>\n",
       "      <td>1566.000000</td>\n",
       "      <td>1566.000000</td>\n",
       "      <td>1566.000000</td>\n",
       "      <td>1566.000000</td>\n",
       "      <td>1566.000000</td>\n",
       "      <td>1566.000000</td>\n",
       "      <td>1566.000000</td>\n",
       "      <td>1566.000000</td>\n",
       "      <td>1566.000000</td>\n",
       "      <td>1566.000000</td>\n",
       "      <td>1566.000000</td>\n",
       "    </tr>\n",
       "    <tr>\n",
       "      <th>mean</th>\n",
       "      <td>0.51341</td>\n",
       "      <td>0.131545</td>\n",
       "      <td>43.659642</td>\n",
       "      <td>2.714559</td>\n",
       "      <td>20.525543</td>\n",
       "      <td>24.588123</td>\n",
       "      <td>1.194764</td>\n",
       "      <td>0.646871</td>\n",
       "      <td>70.830920</td>\n",
       "      <td>73.469219</td>\n",
       "      <td>0.257344</td>\n",
       "      <td>2.638300</td>\n",
       "    </tr>\n",
       "    <tr>\n",
       "      <th>std</th>\n",
       "      <td>0.49998</td>\n",
       "      <td>0.338104</td>\n",
       "      <td>11.989814</td>\n",
       "      <td>1.187100</td>\n",
       "      <td>11.771588</td>\n",
       "      <td>12.008606</td>\n",
       "      <td>0.735063</td>\n",
       "      <td>0.647295</td>\n",
       "      <td>15.314903</td>\n",
       "      <td>16.158047</td>\n",
       "      <td>0.437310</td>\n",
       "      <td>7.879913</td>\n",
       "    </tr>\n",
       "    <tr>\n",
       "      <th>min</th>\n",
       "      <td>0.00000</td>\n",
       "      <td>0.000000</td>\n",
       "      <td>25.000000</td>\n",
       "      <td>1.000000</td>\n",
       "      <td>1.000000</td>\n",
       "      <td>1.000000</td>\n",
       "      <td>0.000000</td>\n",
       "      <td>0.000000</td>\n",
       "      <td>39.580000</td>\n",
       "      <td>35.380205</td>\n",
       "      <td>0.000000</td>\n",
       "      <td>-41.280470</td>\n",
       "    </tr>\n",
       "    <tr>\n",
       "      <th>25%</th>\n",
       "      <td>0.00000</td>\n",
       "      <td>0.000000</td>\n",
       "      <td>33.000000</td>\n",
       "      <td>2.000000</td>\n",
       "      <td>10.000000</td>\n",
       "      <td>15.000000</td>\n",
       "      <td>1.000000</td>\n",
       "      <td>0.000000</td>\n",
       "      <td>59.530000</td>\n",
       "      <td>61.688562</td>\n",
       "      <td>0.000000</td>\n",
       "      <td>-1.478399</td>\n",
       "    </tr>\n",
       "    <tr>\n",
       "      <th>50%</th>\n",
       "      <td>1.00000</td>\n",
       "      <td>0.000000</td>\n",
       "      <td>43.000000</td>\n",
       "      <td>3.000000</td>\n",
       "      <td>20.000000</td>\n",
       "      <td>24.000000</td>\n",
       "      <td>1.000000</td>\n",
       "      <td>1.000000</td>\n",
       "      <td>69.230000</td>\n",
       "      <td>72.121187</td>\n",
       "      <td>0.000000</td>\n",
       "      <td>2.603811</td>\n",
       "    </tr>\n",
       "    <tr>\n",
       "      <th>75%</th>\n",
       "      <td>1.00000</td>\n",
       "      <td>0.000000</td>\n",
       "      <td>53.000000</td>\n",
       "      <td>3.000000</td>\n",
       "      <td>30.000000</td>\n",
       "      <td>33.000000</td>\n",
       "      <td>2.000000</td>\n",
       "      <td>1.000000</td>\n",
       "      <td>79.802500</td>\n",
       "      <td>83.460996</td>\n",
       "      <td>1.000000</td>\n",
       "      <td>6.689581</td>\n",
       "    </tr>\n",
       "    <tr>\n",
       "      <th>max</th>\n",
       "      <td>1.00000</td>\n",
       "      <td>1.000000</td>\n",
       "      <td>74.000000</td>\n",
       "      <td>5.000000</td>\n",
       "      <td>80.000000</td>\n",
       "      <td>64.000000</td>\n",
       "      <td>2.000000</td>\n",
       "      <td>2.000000</td>\n",
       "      <td>151.730000</td>\n",
       "      <td>136.531303</td>\n",
       "      <td>1.000000</td>\n",
       "      <td>48.538386</td>\n",
       "    </tr>\n",
       "  </tbody>\n",
       "</table>\n",
       "</div>"
      ],
      "text/plain": [
       "              sex         race          age    education  smokeintensity  \\\n",
       "count  1566.00000  1566.000000  1566.000000  1566.000000     1566.000000   \n",
       "mean      0.51341     0.131545    43.659642     2.714559       20.525543   \n",
       "std       0.49998     0.338104    11.989814     1.187100       11.771588   \n",
       "min       0.00000     0.000000    25.000000     1.000000        1.000000   \n",
       "25%       0.00000     0.000000    33.000000     2.000000       10.000000   \n",
       "50%       1.00000     0.000000    43.000000     3.000000       20.000000   \n",
       "75%       1.00000     0.000000    53.000000     3.000000       30.000000   \n",
       "max       1.00000     1.000000    74.000000     5.000000       80.000000   \n",
       "\n",
       "          smokeyrs     exercise       active         wt71         wt82  \\\n",
       "count  1566.000000  1566.000000  1566.000000  1566.000000  1566.000000   \n",
       "mean     24.588123     1.194764     0.646871    70.830920    73.469219   \n",
       "std      12.008606     0.735063     0.647295    15.314903    16.158047   \n",
       "min       1.000000     0.000000     0.000000    39.580000    35.380205   \n",
       "25%      15.000000     1.000000     0.000000    59.530000    61.688562   \n",
       "50%      24.000000     1.000000     1.000000    69.230000    72.121187   \n",
       "75%      33.000000     2.000000     1.000000    79.802500    83.460996   \n",
       "max      64.000000     2.000000     2.000000   151.730000   136.531303   \n",
       "\n",
       "              qsmk      wt82_71  \n",
       "count  1566.000000  1566.000000  \n",
       "mean      0.257344     2.638300  \n",
       "std       0.437310     7.879913  \n",
       "min       0.000000   -41.280470  \n",
       "25%       0.000000    -1.478399  \n",
       "50%       0.000000     2.603811  \n",
       "75%       1.000000     6.689581  \n",
       "max       1.000000    48.538386  "
      ]
     },
     "execution_count": 100,
     "metadata": {},
     "output_type": "execute_result"
    }
   ],
   "source": [
    "res_nhefs.describe()"
   ]
  },
  {
   "cell_type": "code",
   "execution_count": 101,
   "metadata": {},
   "outputs": [],
   "source": [
    "observed = res_nhefs.copy()\n",
    "observed['interv'] = -1"
   ]
  },
  {
   "cell_type": "code",
   "execution_count": 102,
   "metadata": {},
   "outputs": [],
   "source": [
    "untreated = res_nhefs.copy()\n",
    "untreated['wt82_71'] = pd.np.nan\n",
    "untreated['qsmk'] = 0\n",
    "untreated['interv'] = 0"
   ]
  },
  {
   "cell_type": "code",
   "execution_count": 103,
   "metadata": {},
   "outputs": [],
   "source": [
    "treated = res_nhefs.copy()\n",
    "treated['wt82_71'] = pd.np.nan\n",
    "treated['qsmk'] = 1\n",
    "treated['interv'] = 1"
   ]
  },
  {
   "cell_type": "code",
   "execution_count": 104,
   "metadata": {},
   "outputs": [],
   "source": [
    "onesample = pd.concat([observed, untreated, treated])"
   ]
  },
  {
   "cell_type": "code",
   "execution_count": 106,
   "metadata": {},
   "outputs": [
    {
     "data": {
      "text/plain": [
       "'wt82_71 ~ C(sex) + C(race) + age + I(age ** 2) + C(education) + smokeintensity + I(smokeintensity ** 2) + smokeyrs + I(smokeyrs ** 2) + C(exercise) + C(active) + wt71 + I(wt71 ** 2) + qsmk'"
      ]
     },
     "execution_count": 106,
     "metadata": {},
     "output_type": "execute_result"
    }
   ],
   "source": [
    "from patsy import EvalFactor, ModelDesc, Term, LookupFactor\n",
    "\n",
    "model = [Term([])]\n",
    "model.append(LookupFactor('C(sex)'))\n",
    "model.append(LookupFactor('C(race)'))\n",
    "model.append(LookupFactor('age'))\n",
    "model.append(EvalFactor('I(age**2)'))\n",
    "model.append(LookupFactor('C(education)'))\n",
    "model.append(LookupFactor('smokeintensity'))\n",
    "model.append(EvalFactor('I(smokeintensity**2)'))\n",
    "model.append(LookupFactor('smokeyrs'))\n",
    "model.append(EvalFactor('I(smokeyrs**2)'))\n",
    "model.append(LookupFactor('C(exercise)'))\n",
    "model.append(LookupFactor('C(active)'))\n",
    "model.append(LookupFactor('wt71'))\n",
    "model.append(EvalFactor('I(wt71**2)'))\n",
    "model.append(LookupFactor('qsmk'))\n",
    "\n",
    "\n",
    "m = ModelDesc([LookupFactor('wt82_71')], model)\n",
    "m.describe()"
   ]
  },
  {
   "cell_type": "code",
   "execution_count": 107,
   "metadata": {},
   "outputs": [],
   "source": [
    "fit_model = smf.OLS.from_formula(m.describe(), onesample).fit()"
   ]
  },
  {
   "cell_type": "code",
   "execution_count": 108,
   "metadata": {},
   "outputs": [
    {
     "name": "stdout",
     "output_type": "stream",
     "text": [
      "                            OLS Regression Results                            \n",
      "==============================================================================\n",
      "Dep. Variable:                wt82_71   R-squared:                       0.147\n",
      "Model:                            OLS   Adj. R-squared:                  0.137\n",
      "Method:                 Least Squares   F-statistic:                     14.06\n",
      "Date:                Sun, 28 Jan 2018   Prob (F-statistic):           8.77e-42\n",
      "Time:                        15:50:44   Log-Likelihood:                -5329.5\n",
      "No. Observations:                1566   AIC:                         1.070e+04\n",
      "Df Residuals:                    1546   BIC:                         1.081e+04\n",
      "Df Model:                          19                                         \n",
      "Covariance Type:            nonrobust                                         \n",
      "==========================================================================================\n",
      "                             coef    std err          t      P>|t|      [0.025      0.975]\n",
      "------------------------------------------------------------------------------------------\n",
      "Intercept                 -1.6586      4.314     -0.384      0.701     -10.120       6.803\n",
      "C(sex)[T.1]               -1.4650      0.468     -3.128      0.002      -2.384      -0.546\n",
      "C(race)[T.1]               0.5864      0.582      1.008      0.314      -0.555       1.727\n",
      "C(education)[T.2]          0.8185      0.607      1.349      0.178      -0.372       2.009\n",
      "C(education)[T.3]          0.5715      0.556      1.028      0.304      -0.519       1.662\n",
      "C(education)[T.4]          1.5085      0.832      1.812      0.070      -0.124       3.141\n",
      "C(education)[T.5]         -0.1708      0.741     -0.230      0.818      -1.625       1.283\n",
      "C(exercise)[T.1]           0.3207      0.535      0.599      0.549      -0.729       1.370\n",
      "C(exercise)[T.2]           0.3629      0.559      0.649      0.516      -0.734       1.459\n",
      "C(active)[T.1]            -0.9430      0.410     -2.300      0.022      -1.747      -0.139\n",
      "C(active)[T.2]            -0.2580      0.685     -0.377      0.706      -1.601       1.085\n",
      "age                        0.3627      0.163      2.220      0.027       0.042       0.683\n",
      "I(age ** 2)               -0.0061      0.002     -3.555      0.000      -0.010      -0.003\n",
      "smokeintensity             0.0652      0.050      1.295      0.196      -0.034       0.164\n",
      "I(smokeintensity ** 2)    -0.0010      0.001     -1.117      0.264      -0.003       0.001\n",
      "smokeyrs                   0.1334      0.092      1.454      0.146      -0.047       0.313\n",
      "I(smokeyrs ** 2)          -0.0018      0.002     -1.183      0.237      -0.005       0.001\n",
      "wt71                       0.0374      0.083      0.449      0.653      -0.126       0.200\n",
      "I(wt71 ** 2)              -0.0009      0.001     -1.749      0.080      -0.002       0.000\n",
      "qsmk                       3.4626      0.438      7.897      0.000       2.603       4.323\n",
      "==============================================================================\n",
      "Omnibus:                      206.351   Durbin-Watson:                   2.004\n",
      "Prob(Omnibus):                  0.000   Jarque-Bera (JB):             1054.623\n",
      "Skew:                           0.505   Prob(JB):                    9.81e-230\n",
      "Kurtosis:                       6.891   Cond. No.                     1.44e+05\n",
      "==============================================================================\n",
      "\n",
      "Warnings:\n",
      "[1] Standard Errors assume that the covariance matrix of the errors is correctly specified.\n",
      "[2] The condition number is large, 1.44e+05. This might indicate that there are\n",
      "strong multicollinearity or other numerical problems.\n"
     ]
    }
   ],
   "source": [
    "print(fit_model.summary())"
   ]
  },
  {
   "cell_type": "code",
   "execution_count": 109,
   "metadata": {},
   "outputs": [],
   "source": [
    "onesample['preds'] = fit_model.predict(onesample)"
   ]
  },
  {
   "cell_type": "code",
   "execution_count": 111,
   "metadata": {},
   "outputs": [
    {
     "data": {
      "text/html": [
       "<div>\n",
       "<style scoped>\n",
       "    .dataframe tbody tr th:only-of-type {\n",
       "        vertical-align: middle;\n",
       "    }\n",
       "\n",
       "    .dataframe tbody tr th {\n",
       "        vertical-align: top;\n",
       "    }\n",
       "\n",
       "    .dataframe thead th {\n",
       "        text-align: right;\n",
       "    }\n",
       "</style>\n",
       "<table border=\"1\" class=\"dataframe\">\n",
       "  <thead>\n",
       "    <tr style=\"text-align: right;\">\n",
       "      <th>interv</th>\n",
       "      <th>-1</th>\n",
       "      <th>0</th>\n",
       "      <th>1</th>\n",
       "    </tr>\n",
       "  </thead>\n",
       "  <tbody>\n",
       "    <tr>\n",
       "      <th>preds</th>\n",
       "      <td>2.6383</td>\n",
       "      <td>1.747216</td>\n",
       "      <td>5.209838</td>\n",
       "    </tr>\n",
       "  </tbody>\n",
       "</table>\n",
       "</div>"
      ],
      "text/plain": [
       "interv      -1         0         1\n",
       "preds   2.6383  1.747216  5.209838"
      ]
     },
     "execution_count": 111,
     "metadata": {},
     "output_type": "execute_result"
    }
   ],
   "source": [
    "pd.pivot_table(onesample, ['preds'], columns=['interv'])"
   ]
  },
  {
   "cell_type": "code",
   "execution_count": 112,
   "metadata": {},
   "outputs": [
    {
     "data": {
      "text/html": [
       "<div>\n",
       "<style scoped>\n",
       "    .dataframe tbody tr th:only-of-type {\n",
       "        vertical-align: middle;\n",
       "    }\n",
       "\n",
       "    .dataframe tbody tr th {\n",
       "        vertical-align: top;\n",
       "    }\n",
       "\n",
       "    .dataframe thead th {\n",
       "        text-align: right;\n",
       "    }\n",
       "</style>\n",
       "<table border=\"1\" class=\"dataframe\">\n",
       "  <thead>\n",
       "    <tr style=\"text-align: right;\">\n",
       "      <th></th>\n",
       "      <th>sex</th>\n",
       "      <th>race</th>\n",
       "      <th>age</th>\n",
       "      <th>education</th>\n",
       "      <th>smokeintensity</th>\n",
       "      <th>smokeyrs</th>\n",
       "      <th>exercise</th>\n",
       "      <th>active</th>\n",
       "      <th>wt71</th>\n",
       "      <th>wt82</th>\n",
       "      <th>qsmk</th>\n",
       "      <th>wt82_71</th>\n",
       "      <th>interv</th>\n",
       "      <th>preds</th>\n",
       "    </tr>\n",
       "  </thead>\n",
       "  <tbody>\n",
       "    <tr>\n",
       "      <th>0</th>\n",
       "      <td>0</td>\n",
       "      <td>1</td>\n",
       "      <td>42</td>\n",
       "      <td>1</td>\n",
       "      <td>30</td>\n",
       "      <td>29</td>\n",
       "      <td>2</td>\n",
       "      <td>0</td>\n",
       "      <td>79.04</td>\n",
       "      <td>68.946040</td>\n",
       "      <td>0</td>\n",
       "      <td>-10.093960</td>\n",
       "      <td>-1</td>\n",
       "      <td>4.271756</td>\n",
       "    </tr>\n",
       "    <tr>\n",
       "      <th>1</th>\n",
       "      <td>0</td>\n",
       "      <td>0</td>\n",
       "      <td>36</td>\n",
       "      <td>2</td>\n",
       "      <td>20</td>\n",
       "      <td>24</td>\n",
       "      <td>0</td>\n",
       "      <td>0</td>\n",
       "      <td>58.63</td>\n",
       "      <td>61.234970</td>\n",
       "      <td>0</td>\n",
       "      <td>2.604970</td>\n",
       "      <td>-1</td>\n",
       "      <td>6.337239</td>\n",
       "    </tr>\n",
       "    <tr>\n",
       "      <th>2</th>\n",
       "      <td>1</td>\n",
       "      <td>1</td>\n",
       "      <td>56</td>\n",
       "      <td>2</td>\n",
       "      <td>20</td>\n",
       "      <td>26</td>\n",
       "      <td>2</td>\n",
       "      <td>0</td>\n",
       "      <td>56.81</td>\n",
       "      <td>66.224486</td>\n",
       "      <td>0</td>\n",
       "      <td>9.414486</td>\n",
       "      <td>-1</td>\n",
       "      <td>1.989807</td>\n",
       "    </tr>\n",
       "    <tr>\n",
       "      <th>3</th>\n",
       "      <td>0</td>\n",
       "      <td>1</td>\n",
       "      <td>68</td>\n",
       "      <td>1</td>\n",
       "      <td>3</td>\n",
       "      <td>53</td>\n",
       "      <td>2</td>\n",
       "      <td>1</td>\n",
       "      <td>59.42</td>\n",
       "      <td>64.410117</td>\n",
       "      <td>0</td>\n",
       "      <td>4.990117</td>\n",
       "      <td>-1</td>\n",
       "      <td>-4.261624</td>\n",
       "    </tr>\n",
       "    <tr>\n",
       "      <th>4</th>\n",
       "      <td>0</td>\n",
       "      <td>0</td>\n",
       "      <td>40</td>\n",
       "      <td>2</td>\n",
       "      <td>20</td>\n",
       "      <td>19</td>\n",
       "      <td>1</td>\n",
       "      <td>1</td>\n",
       "      <td>87.09</td>\n",
       "      <td>92.079251</td>\n",
       "      <td>0</td>\n",
       "      <td>4.989251</td>\n",
       "      <td>-1</td>\n",
       "      <td>2.290883</td>\n",
       "    </tr>\n",
       "  </tbody>\n",
       "</table>\n",
       "</div>"
      ],
      "text/plain": [
       "   sex  race  age  education  smokeintensity  smokeyrs  exercise  active  \\\n",
       "0    0     1   42          1              30        29         2       0   \n",
       "1    0     0   36          2              20        24         0       0   \n",
       "2    1     1   56          2              20        26         2       0   \n",
       "3    0     1   68          1               3        53         2       1   \n",
       "4    0     0   40          2              20        19         1       1   \n",
       "\n",
       "    wt71       wt82  qsmk    wt82_71  interv     preds  \n",
       "0  79.04  68.946040     0 -10.093960      -1  4.271756  \n",
       "1  58.63  61.234970     0   2.604970      -1  6.337239  \n",
       "2  56.81  66.224486     0   9.414486      -1  1.989807  \n",
       "3  59.42  64.410117     0   4.990117      -1 -4.261624  \n",
       "4  87.09  92.079251     0   4.989251      -1  2.290883  "
      ]
     },
     "execution_count": 112,
     "metadata": {},
     "output_type": "execute_result"
    }
   ],
   "source": [
    "onesample.head()"
   ]
  },
  {
   "cell_type": "markdown",
   "metadata": {},
   "source": [
    "# 13.4"
   ]
  },
  {
   "cell_type": "code",
   "execution_count": 132,
   "metadata": {},
   "outputs": [],
   "source": [
    "from patsy import EvalFactor, ModelDesc, Term, LookupFactor\n",
    "\n",
    "model = [Term([])]\n",
    "model.append(LookupFactor('C(sex)'))\n",
    "model.append(LookupFactor('C(race)'))\n",
    "model.append(LookupFactor('age'))\n",
    "model.append(EvalFactor('I(age**2)'))\n",
    "model.append(LookupFactor('C(education)'))\n",
    "model.append(LookupFactor('smokeintensity'))\n",
    "model.append(EvalFactor('I(smokeintensity**2)'))\n",
    "model.append(LookupFactor('smokeyrs'))\n",
    "model.append(EvalFactor('I(smokeyrs**2)'))\n",
    "model.append(LookupFactor('C(exercise)'))\n",
    "model.append(LookupFactor('C(active)'))\n",
    "model.append(LookupFactor('wt71'))\n",
    "model.append(EvalFactor('I(wt71**2)'))\n",
    "model.append(LookupFactor('qsmk'))\n",
    "\n",
    "\n",
    "m = ModelDesc([LookupFactor('wt82_71')], model)\n",
    "m.describe()\n",
    "\n",
    "def g_formula(ids):\n",
    "    df = res_nhefs.iloc[ids].copy()\n",
    "    \n",
    "    observed = df.copy()\n",
    "    observed['interv'] = -1\n",
    "    \n",
    "    untreated = res_nhefs.copy()\n",
    "    untreated['wt82_71'] = pd.np.nan\n",
    "    untreated['qsmk'] = 0\n",
    "    untreated['interv'] = 0\n",
    "    \n",
    "    treated = res_nhefs.copy()\n",
    "    treated['wt82_71'] = pd.np.nan\n",
    "    treated['qsmk'] = 1\n",
    "    treated['interv'] = 1\n",
    "    \n",
    "    fit_model = smf.OLS.from_formula(m.describe(), observed).fit()\n",
    "    \n",
    "    untreated_mean = fit_model.predict(untreated).mean()\n",
    "    treated_mean = fit_model.predict(treated).mean()\n",
    "    \n",
    "    return untreated_mean - treated_mean\n"
   ]
  },
  {
   "cell_type": "code",
   "execution_count": null,
   "metadata": {},
   "outputs": [],
   "source": []
  },
  {
   "cell_type": "code",
   "execution_count": 133,
   "metadata": {},
   "outputs": [],
   "source": [
    "import seaborn as sns"
   ]
  },
  {
   "cell_type": "code",
   "execution_count": 134,
   "metadata": {},
   "outputs": [],
   "source": [
    "bs = sns.algorithms.bootstrap(range(len(res_nhefs)), n_boot=100, func=g_formula)"
   ]
  },
  {
   "cell_type": "code",
   "execution_count": 138,
   "metadata": {},
   "outputs": [],
   "source": [
    "bs.sort()"
   ]
  },
  {
   "cell_type": "code",
   "execution_count": 141,
   "metadata": {},
   "outputs": [
    {
     "data": {
      "text/plain": [
       "(-4.2928977510341815, -2.802424490773374)"
      ]
     },
     "execution_count": 141,
     "metadata": {},
     "output_type": "execute_result"
    }
   ],
   "source": [
    "bs[5], bs[95]"
   ]
  },
  {
   "cell_type": "code",
   "execution_count": 140,
   "metadata": {},
   "outputs": [],
   "source": []
  },
  {
   "cell_type": "code",
   "execution_count": null,
   "metadata": {},
   "outputs": [],
   "source": []
  }
 ],
 "metadata": {
  "kernelspec": {
   "display_name": "Python 2",
   "language": "python",
   "name": "python2"
  },
  "language_info": {
   "codemirror_mode": {
    "name": "ipython",
    "version": 2
   },
   "file_extension": ".py",
   "mimetype": "text/x-python",
   "name": "python",
   "nbconvert_exporter": "python",
   "pygments_lexer": "ipython2",
   "version": "2.7.13"
  }
 },
 "nbformat": 4,
 "nbformat_minor": 2
}
